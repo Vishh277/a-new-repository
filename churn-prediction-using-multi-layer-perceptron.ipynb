{
 "cells": [
  {
   "cell_type": "markdown",
   "id": "af5e2a95",
   "metadata": {
    "papermill": {
     "duration": 0.010448,
     "end_time": "2023-06-15T09:19:41.087123",
     "exception": false,
     "start_time": "2023-06-15T09:19:41.076675",
     "status": "completed"
    },
    "tags": []
   },
   "source": [
    "# CHURN PREDICTION USING MULTI LAYER PERCEPTRON \n",
    "## Binary Classification using MLP"
   ]
  },
  {
   "cell_type": "markdown",
   "id": "ac6116a4",
   "metadata": {
    "papermill": {
     "duration": 0.009923,
     "end_time": "2023-06-15T09:19:41.107602",
     "exception": false,
     "start_time": "2023-06-15T09:19:41.097679",
     "status": "completed"
    },
    "tags": []
   },
   "source": [
    "### Import basic libraries"
   ]
  },
  {
   "cell_type": "code",
   "execution_count": 1,
   "id": "b427f2d1",
   "metadata": {
    "execution": {
     "iopub.execute_input": "2023-06-15T09:19:41.129930Z",
     "iopub.status.busy": "2023-06-15T09:19:41.129586Z",
     "iopub.status.idle": "2023-06-15T09:19:41.137304Z",
     "shell.execute_reply": "2023-06-15T09:19:41.136683Z"
    },
    "papermill": {
     "duration": 0.021751,
     "end_time": "2023-06-15T09:19:41.139535",
     "exception": false,
     "start_time": "2023-06-15T09:19:41.117784",
     "status": "completed"
    },
    "tags": []
   },
   "outputs": [],
   "source": [
    "import numpy as np\n",
    "import pandas as pd"
   ]
  },
  {
   "cell_type": "markdown",
   "id": "e7e7a7e7",
   "metadata": {
    "papermill": {
     "duration": 0.010019,
     "end_time": "2023-06-15T09:19:41.160201",
     "exception": false,
     "start_time": "2023-06-15T09:19:41.150182",
     "status": "completed"
    },
    "tags": []
   },
   "source": [
    "### Import the Dataset - Churn Dataset"
   ]
  },
  {
   "cell_type": "code",
   "execution_count": 2,
   "id": "62e1bf09",
   "metadata": {
    "execution": {
     "iopub.execute_input": "2023-06-15T09:19:41.182965Z",
     "iopub.status.busy": "2023-06-15T09:19:41.182315Z",
     "iopub.status.idle": "2023-06-15T09:19:41.224829Z",
     "shell.execute_reply": "2023-06-15T09:19:41.223685Z"
    },
    "papermill": {
     "duration": 0.057085,
     "end_time": "2023-06-15T09:19:41.227681",
     "exception": false,
     "start_time": "2023-06-15T09:19:41.170596",
     "status": "completed"
    },
    "tags": []
   },
   "outputs": [],
   "source": [
    "path = '/kaggle/input/churn-prediction-for-credit-card-customer'\n",
    "data = pd.read_csv('/kaggle/input/churn-prediction-for-credit-card-customer/Churn.csv')"
   ]
  },
  {
   "cell_type": "code",
   "execution_count": 3,
   "id": "7118826e",
   "metadata": {
    "execution": {
     "iopub.execute_input": "2023-06-15T09:19:41.250858Z",
     "iopub.status.busy": "2023-06-15T09:19:41.250528Z",
     "iopub.status.idle": "2023-06-15T09:19:41.283431Z",
     "shell.execute_reply": "2023-06-15T09:19:41.282529Z"
    },
    "papermill": {
     "duration": 0.047305,
     "end_time": "2023-06-15T09:19:41.285973",
     "exception": false,
     "start_time": "2023-06-15T09:19:41.238668",
     "status": "completed"
    },
    "tags": []
   },
   "outputs": [
    {
     "data": {
      "text/html": [
       "<div>\n",
       "<style scoped>\n",
       "    .dataframe tbody tr th:only-of-type {\n",
       "        vertical-align: middle;\n",
       "    }\n",
       "\n",
       "    .dataframe tbody tr th {\n",
       "        vertical-align: top;\n",
       "    }\n",
       "\n",
       "    .dataframe thead th {\n",
       "        text-align: right;\n",
       "    }\n",
       "</style>\n",
       "<table border=\"1\" class=\"dataframe\">\n",
       "  <thead>\n",
       "    <tr style=\"text-align: right;\">\n",
       "      <th></th>\n",
       "      <th>CreditScore</th>\n",
       "      <th>Geography</th>\n",
       "      <th>Gender</th>\n",
       "      <th>Age</th>\n",
       "      <th>Tenure</th>\n",
       "      <th>Balance</th>\n",
       "      <th>NumOfProducts</th>\n",
       "      <th>HasCrCard</th>\n",
       "      <th>IsActiveMember</th>\n",
       "      <th>EstimatedSalary</th>\n",
       "      <th>Exited</th>\n",
       "    </tr>\n",
       "  </thead>\n",
       "  <tbody>\n",
       "    <tr>\n",
       "      <th>0</th>\n",
       "      <td>619</td>\n",
       "      <td>France</td>\n",
       "      <td>Female</td>\n",
       "      <td>42</td>\n",
       "      <td>2</td>\n",
       "      <td>0.00</td>\n",
       "      <td>1</td>\n",
       "      <td>1</td>\n",
       "      <td>1</td>\n",
       "      <td>101348.88</td>\n",
       "      <td>1</td>\n",
       "    </tr>\n",
       "    <tr>\n",
       "      <th>1</th>\n",
       "      <td>608</td>\n",
       "      <td>Spain</td>\n",
       "      <td>Female</td>\n",
       "      <td>41</td>\n",
       "      <td>1</td>\n",
       "      <td>83807.86</td>\n",
       "      <td>1</td>\n",
       "      <td>0</td>\n",
       "      <td>1</td>\n",
       "      <td>112542.58</td>\n",
       "      <td>0</td>\n",
       "    </tr>\n",
       "    <tr>\n",
       "      <th>2</th>\n",
       "      <td>502</td>\n",
       "      <td>France</td>\n",
       "      <td>Female</td>\n",
       "      <td>42</td>\n",
       "      <td>8</td>\n",
       "      <td>159660.80</td>\n",
       "      <td>3</td>\n",
       "      <td>1</td>\n",
       "      <td>0</td>\n",
       "      <td>113931.57</td>\n",
       "      <td>1</td>\n",
       "    </tr>\n",
       "    <tr>\n",
       "      <th>3</th>\n",
       "      <td>699</td>\n",
       "      <td>France</td>\n",
       "      <td>Female</td>\n",
       "      <td>39</td>\n",
       "      <td>1</td>\n",
       "      <td>0.00</td>\n",
       "      <td>2</td>\n",
       "      <td>0</td>\n",
       "      <td>0</td>\n",
       "      <td>93826.63</td>\n",
       "      <td>0</td>\n",
       "    </tr>\n",
       "    <tr>\n",
       "      <th>4</th>\n",
       "      <td>850</td>\n",
       "      <td>Spain</td>\n",
       "      <td>Female</td>\n",
       "      <td>43</td>\n",
       "      <td>2</td>\n",
       "      <td>125510.82</td>\n",
       "      <td>1</td>\n",
       "      <td>1</td>\n",
       "      <td>1</td>\n",
       "      <td>79084.10</td>\n",
       "      <td>0</td>\n",
       "    </tr>\n",
       "  </tbody>\n",
       "</table>\n",
       "</div>"
      ],
      "text/plain": [
       "   CreditScore Geography  Gender  Age  Tenure    Balance  NumOfProducts  \\\n",
       "0          619    France  Female   42       2       0.00              1   \n",
       "1          608     Spain  Female   41       1   83807.86              1   \n",
       "2          502    France  Female   42       8  159660.80              3   \n",
       "3          699    France  Female   39       1       0.00              2   \n",
       "4          850     Spain  Female   43       2  125510.82              1   \n",
       "\n",
       "   HasCrCard  IsActiveMember  EstimatedSalary  Exited  \n",
       "0          1               1        101348.88       1  \n",
       "1          0               1        112542.58       0  \n",
       "2          1               0        113931.57       1  \n",
       "3          0               0         93826.63       0  \n",
       "4          1               1         79084.10       0  "
      ]
     },
     "execution_count": 3,
     "metadata": {},
     "output_type": "execute_result"
    }
   ],
   "source": [
    "data.head()"
   ]
  },
  {
   "cell_type": "markdown",
   "id": "83b3b272",
   "metadata": {
    "papermill": {
     "duration": 0.010349,
     "end_time": "2023-06-15T09:19:41.307171",
     "exception": false,
     "start_time": "2023-06-15T09:19:41.296822",
     "status": "completed"
    },
    "tags": []
   },
   "source": [
    "#### List the Numerical Features"
   ]
  },
  {
   "cell_type": "code",
   "execution_count": 4,
   "id": "f58c61e9",
   "metadata": {
    "execution": {
     "iopub.execute_input": "2023-06-15T09:19:41.330322Z",
     "iopub.status.busy": "2023-06-15T09:19:41.329997Z",
     "iopub.status.idle": "2023-06-15T09:19:41.361427Z",
     "shell.execute_reply": "2023-06-15T09:19:41.360324Z"
    },
    "papermill": {
     "duration": 0.045679,
     "end_time": "2023-06-15T09:19:41.363503",
     "exception": false,
     "start_time": "2023-06-15T09:19:41.317824",
     "status": "completed"
    },
    "tags": []
   },
   "outputs": [
    {
     "name": "stdout",
     "output_type": "stream",
     "text": [
      "<class 'pandas.core.frame.DataFrame'>\n",
      "RangeIndex: 10000 entries, 0 to 9999\n",
      "Data columns (total 11 columns):\n",
      " #   Column           Non-Null Count  Dtype  \n",
      "---  ------           --------------  -----  \n",
      " 0   CreditScore      10000 non-null  int64  \n",
      " 1   Geography        10000 non-null  object \n",
      " 2   Gender           10000 non-null  object \n",
      " 3   Age              10000 non-null  int64  \n",
      " 4   Tenure           10000 non-null  int64  \n",
      " 5   Balance          10000 non-null  float64\n",
      " 6   NumOfProducts    10000 non-null  int64  \n",
      " 7   HasCrCard        10000 non-null  int64  \n",
      " 8   IsActiveMember   10000 non-null  int64  \n",
      " 9   EstimatedSalary  10000 non-null  float64\n",
      " 10  Exited           10000 non-null  int64  \n",
      "dtypes: float64(2), int64(7), object(2)\n",
      "memory usage: 859.5+ KB\n"
     ]
    }
   ],
   "source": [
    "# Check which is numerical featue\n",
    "\n",
    "data.info()"
   ]
  },
  {
   "cell_type": "markdown",
   "id": "3007a297",
   "metadata": {
    "papermill": {
     "duration": 0.010091,
     "end_time": "2023-06-15T09:19:41.384218",
     "exception": false,
     "start_time": "2023-06-15T09:19:41.374127",
     "status": "completed"
    },
    "tags": []
   },
   "source": [
    "#### Check for duplicates\n"
   ]
  },
  {
   "cell_type": "code",
   "execution_count": 5,
   "id": "3cc557ac",
   "metadata": {
    "execution": {
     "iopub.execute_input": "2023-06-15T09:19:41.407265Z",
     "iopub.status.busy": "2023-06-15T09:19:41.406660Z",
     "iopub.status.idle": "2023-06-15T09:19:41.419891Z",
     "shell.execute_reply": "2023-06-15T09:19:41.418850Z"
    },
    "papermill": {
     "duration": 0.027986,
     "end_time": "2023-06-15T09:19:41.422565",
     "exception": false,
     "start_time": "2023-06-15T09:19:41.394579",
     "status": "completed"
    },
    "tags": []
   },
   "outputs": [
    {
     "data": {
      "text/plain": [
       "0"
      ]
     },
     "execution_count": 5,
     "metadata": {},
     "output_type": "execute_result"
    }
   ],
   "source": [
    "data.duplicated().sum()"
   ]
  },
  {
   "cell_type": "markdown",
   "id": "a7d71c64",
   "metadata": {
    "papermill": {
     "duration": 0.010711,
     "end_time": "2023-06-15T09:19:41.444353",
     "exception": false,
     "start_time": "2023-06-15T09:19:41.433642",
     "status": "completed"
    },
    "tags": []
   },
   "source": [
    "#### Convert Categorical to Numerical - One hot encoding"
   ]
  },
  {
   "cell_type": "code",
   "execution_count": 6,
   "id": "d674132f",
   "metadata": {
    "execution": {
     "iopub.execute_input": "2023-06-15T09:19:41.468190Z",
     "iopub.status.busy": "2023-06-15T09:19:41.467816Z",
     "iopub.status.idle": "2023-06-15T09:19:41.498501Z",
     "shell.execute_reply": "2023-06-15T09:19:41.497600Z"
    },
    "papermill": {
     "duration": 0.045401,
     "end_time": "2023-06-15T09:19:41.500742",
     "exception": false,
     "start_time": "2023-06-15T09:19:41.455341",
     "status": "completed"
    },
    "tags": []
   },
   "outputs": [
    {
     "data": {
      "text/html": [
       "<div>\n",
       "<style scoped>\n",
       "    .dataframe tbody tr th:only-of-type {\n",
       "        vertical-align: middle;\n",
       "    }\n",
       "\n",
       "    .dataframe tbody tr th {\n",
       "        vertical-align: top;\n",
       "    }\n",
       "\n",
       "    .dataframe thead th {\n",
       "        text-align: right;\n",
       "    }\n",
       "</style>\n",
       "<table border=\"1\" class=\"dataframe\">\n",
       "  <thead>\n",
       "    <tr style=\"text-align: right;\">\n",
       "      <th></th>\n",
       "      <th>CreditScore</th>\n",
       "      <th>Age</th>\n",
       "      <th>Tenure</th>\n",
       "      <th>Balance</th>\n",
       "      <th>NumOfProducts</th>\n",
       "      <th>HasCrCard</th>\n",
       "      <th>IsActiveMember</th>\n",
       "      <th>EstimatedSalary</th>\n",
       "      <th>Exited</th>\n",
       "      <th>Geography_Germany</th>\n",
       "      <th>Geography_Spain</th>\n",
       "      <th>Gender_Male</th>\n",
       "    </tr>\n",
       "  </thead>\n",
       "  <tbody>\n",
       "    <tr>\n",
       "      <th>0</th>\n",
       "      <td>619</td>\n",
       "      <td>42</td>\n",
       "      <td>2</td>\n",
       "      <td>0.00</td>\n",
       "      <td>1</td>\n",
       "      <td>1</td>\n",
       "      <td>1</td>\n",
       "      <td>101348.88</td>\n",
       "      <td>1</td>\n",
       "      <td>0</td>\n",
       "      <td>0</td>\n",
       "      <td>0</td>\n",
       "    </tr>\n",
       "    <tr>\n",
       "      <th>1</th>\n",
       "      <td>608</td>\n",
       "      <td>41</td>\n",
       "      <td>1</td>\n",
       "      <td>83807.86</td>\n",
       "      <td>1</td>\n",
       "      <td>0</td>\n",
       "      <td>1</td>\n",
       "      <td>112542.58</td>\n",
       "      <td>0</td>\n",
       "      <td>0</td>\n",
       "      <td>1</td>\n",
       "      <td>0</td>\n",
       "    </tr>\n",
       "    <tr>\n",
       "      <th>2</th>\n",
       "      <td>502</td>\n",
       "      <td>42</td>\n",
       "      <td>8</td>\n",
       "      <td>159660.80</td>\n",
       "      <td>3</td>\n",
       "      <td>1</td>\n",
       "      <td>0</td>\n",
       "      <td>113931.57</td>\n",
       "      <td>1</td>\n",
       "      <td>0</td>\n",
       "      <td>0</td>\n",
       "      <td>0</td>\n",
       "    </tr>\n",
       "    <tr>\n",
       "      <th>3</th>\n",
       "      <td>699</td>\n",
       "      <td>39</td>\n",
       "      <td>1</td>\n",
       "      <td>0.00</td>\n",
       "      <td>2</td>\n",
       "      <td>0</td>\n",
       "      <td>0</td>\n",
       "      <td>93826.63</td>\n",
       "      <td>0</td>\n",
       "      <td>0</td>\n",
       "      <td>0</td>\n",
       "      <td>0</td>\n",
       "    </tr>\n",
       "    <tr>\n",
       "      <th>4</th>\n",
       "      <td>850</td>\n",
       "      <td>43</td>\n",
       "      <td>2</td>\n",
       "      <td>125510.82</td>\n",
       "      <td>1</td>\n",
       "      <td>1</td>\n",
       "      <td>1</td>\n",
       "      <td>79084.10</td>\n",
       "      <td>0</td>\n",
       "      <td>0</td>\n",
       "      <td>1</td>\n",
       "      <td>0</td>\n",
       "    </tr>\n",
       "  </tbody>\n",
       "</table>\n",
       "</div>"
      ],
      "text/plain": [
       "   CreditScore  Age  Tenure    Balance  NumOfProducts  HasCrCard  \\\n",
       "0          619   42       2       0.00              1          1   \n",
       "1          608   41       1   83807.86              1          0   \n",
       "2          502   42       8  159660.80              3          1   \n",
       "3          699   39       1       0.00              2          0   \n",
       "4          850   43       2  125510.82              1          1   \n",
       "\n",
       "   IsActiveMember  EstimatedSalary  Exited  Geography_Germany  \\\n",
       "0               1        101348.88       1                  0   \n",
       "1               1        112542.58       0                  0   \n",
       "2               0        113931.57       1                  0   \n",
       "3               0         93826.63       0                  0   \n",
       "4               1         79084.10       0                  0   \n",
       "\n",
       "   Geography_Spain  Gender_Male  \n",
       "0                0            0  \n",
       "1                1            0  \n",
       "2                0            0  \n",
       "3                0            0  \n",
       "4                1            0  "
      ]
     },
     "execution_count": 6,
     "metadata": {},
     "output_type": "execute_result"
    }
   ],
   "source": [
    "## Create a dummy variable for each categorical feature\n",
    "df = pd.get_dummies(data,columns=['Geography','Gender'],drop_first = True) #  We have dropped france. If there is no germany and Spain, Its France.\n",
    "df.head()"
   ]
  },
  {
   "cell_type": "markdown",
   "id": "32a7d308",
   "metadata": {
    "papermill": {
     "duration": 0.015539,
     "end_time": "2023-06-15T09:19:41.528511",
     "exception": false,
     "start_time": "2023-06-15T09:19:41.512972",
     "status": "completed"
    },
    "tags": []
   },
   "source": [
    "#### Divide df into features and target"
   ]
  },
  {
   "cell_type": "code",
   "execution_count": 7,
   "id": "33861bfd",
   "metadata": {
    "execution": {
     "iopub.execute_input": "2023-06-15T09:19:41.554118Z",
     "iopub.status.busy": "2023-06-15T09:19:41.553137Z",
     "iopub.status.idle": "2023-06-15T09:19:41.573747Z",
     "shell.execute_reply": "2023-06-15T09:19:41.572690Z"
    },
    "papermill": {
     "duration": 0.036355,
     "end_time": "2023-06-15T09:19:41.576264",
     "exception": false,
     "start_time": "2023-06-15T09:19:41.539909",
     "status": "completed"
    },
    "tags": []
   },
   "outputs": [
    {
     "data": {
      "text/html": [
       "<div>\n",
       "<style scoped>\n",
       "    .dataframe tbody tr th:only-of-type {\n",
       "        vertical-align: middle;\n",
       "    }\n",
       "\n",
       "    .dataframe tbody tr th {\n",
       "        vertical-align: top;\n",
       "    }\n",
       "\n",
       "    .dataframe thead th {\n",
       "        text-align: right;\n",
       "    }\n",
       "</style>\n",
       "<table border=\"1\" class=\"dataframe\">\n",
       "  <thead>\n",
       "    <tr style=\"text-align: right;\">\n",
       "      <th></th>\n",
       "      <th>CreditScore</th>\n",
       "      <th>Age</th>\n",
       "      <th>Tenure</th>\n",
       "      <th>Balance</th>\n",
       "      <th>NumOfProducts</th>\n",
       "      <th>HasCrCard</th>\n",
       "      <th>IsActiveMember</th>\n",
       "      <th>EstimatedSalary</th>\n",
       "      <th>Geography_Germany</th>\n",
       "      <th>Geography_Spain</th>\n",
       "      <th>Gender_Male</th>\n",
       "    </tr>\n",
       "  </thead>\n",
       "  <tbody>\n",
       "    <tr>\n",
       "      <th>0</th>\n",
       "      <td>619</td>\n",
       "      <td>42</td>\n",
       "      <td>2</td>\n",
       "      <td>0.00</td>\n",
       "      <td>1</td>\n",
       "      <td>1</td>\n",
       "      <td>1</td>\n",
       "      <td>101348.88</td>\n",
       "      <td>0</td>\n",
       "      <td>0</td>\n",
       "      <td>0</td>\n",
       "    </tr>\n",
       "    <tr>\n",
       "      <th>1</th>\n",
       "      <td>608</td>\n",
       "      <td>41</td>\n",
       "      <td>1</td>\n",
       "      <td>83807.86</td>\n",
       "      <td>1</td>\n",
       "      <td>0</td>\n",
       "      <td>1</td>\n",
       "      <td>112542.58</td>\n",
       "      <td>0</td>\n",
       "      <td>1</td>\n",
       "      <td>0</td>\n",
       "    </tr>\n",
       "    <tr>\n",
       "      <th>2</th>\n",
       "      <td>502</td>\n",
       "      <td>42</td>\n",
       "      <td>8</td>\n",
       "      <td>159660.80</td>\n",
       "      <td>3</td>\n",
       "      <td>1</td>\n",
       "      <td>0</td>\n",
       "      <td>113931.57</td>\n",
       "      <td>0</td>\n",
       "      <td>0</td>\n",
       "      <td>0</td>\n",
       "    </tr>\n",
       "    <tr>\n",
       "      <th>3</th>\n",
       "      <td>699</td>\n",
       "      <td>39</td>\n",
       "      <td>1</td>\n",
       "      <td>0.00</td>\n",
       "      <td>2</td>\n",
       "      <td>0</td>\n",
       "      <td>0</td>\n",
       "      <td>93826.63</td>\n",
       "      <td>0</td>\n",
       "      <td>0</td>\n",
       "      <td>0</td>\n",
       "    </tr>\n",
       "    <tr>\n",
       "      <th>4</th>\n",
       "      <td>850</td>\n",
       "      <td>43</td>\n",
       "      <td>2</td>\n",
       "      <td>125510.82</td>\n",
       "      <td>1</td>\n",
       "      <td>1</td>\n",
       "      <td>1</td>\n",
       "      <td>79084.10</td>\n",
       "      <td>0</td>\n",
       "      <td>1</td>\n",
       "      <td>0</td>\n",
       "    </tr>\n",
       "  </tbody>\n",
       "</table>\n",
       "</div>"
      ],
      "text/plain": [
       "   CreditScore  Age  Tenure    Balance  NumOfProducts  HasCrCard  \\\n",
       "0          619   42       2       0.00              1          1   \n",
       "1          608   41       1   83807.86              1          0   \n",
       "2          502   42       8  159660.80              3          1   \n",
       "3          699   39       1       0.00              2          0   \n",
       "4          850   43       2  125510.82              1          1   \n",
       "\n",
       "   IsActiveMember  EstimatedSalary  Geography_Germany  Geography_Spain  \\\n",
       "0               1        101348.88                  0                0   \n",
       "1               1        112542.58                  0                1   \n",
       "2               0        113931.57                  0                0   \n",
       "3               0         93826.63                  0                0   \n",
       "4               1         79084.10                  0                1   \n",
       "\n",
       "   Gender_Male  \n",
       "0            0  \n",
       "1            0  \n",
       "2            0  \n",
       "3            0  \n",
       "4            0  "
      ]
     },
     "execution_count": 7,
     "metadata": {},
     "output_type": "execute_result"
    }
   ],
   "source": [
    "x = df.drop(columns=['Exited'])\n",
    "x.head()"
   ]
  },
  {
   "cell_type": "code",
   "execution_count": 8,
   "id": "a6a0d6a0",
   "metadata": {
    "execution": {
     "iopub.execute_input": "2023-06-15T09:19:41.606629Z",
     "iopub.status.busy": "2023-06-15T09:19:41.605834Z",
     "iopub.status.idle": "2023-06-15T09:19:41.612771Z",
     "shell.execute_reply": "2023-06-15T09:19:41.611826Z"
    },
    "papermill": {
     "duration": 0.024182,
     "end_time": "2023-06-15T09:19:41.615545",
     "exception": false,
     "start_time": "2023-06-15T09:19:41.591363",
     "status": "completed"
    },
    "tags": []
   },
   "outputs": [
    {
     "data": {
      "text/plain": [
       "0    1\n",
       "1    0\n",
       "2    1\n",
       "3    0\n",
       "4    0\n",
       "Name: Exited, dtype: int64"
      ]
     },
     "execution_count": 8,
     "metadata": {},
     "output_type": "execute_result"
    }
   ],
   "source": [
    "# Target\n",
    "y = df['Exited']\n",
    "y.head()"
   ]
  },
  {
   "cell_type": "markdown",
   "id": "b2efe6d8",
   "metadata": {
    "papermill": {
     "duration": 0.010879,
     "end_time": "2023-06-15T09:19:41.641015",
     "exception": false,
     "start_time": "2023-06-15T09:19:41.630136",
     "status": "completed"
    },
    "tags": []
   },
   "source": [
    "### Train Test Split"
   ]
  },
  {
   "cell_type": "code",
   "execution_count": 9,
   "id": "71a386f7",
   "metadata": {
    "execution": {
     "iopub.execute_input": "2023-06-15T09:19:41.665361Z",
     "iopub.status.busy": "2023-06-15T09:19:41.665016Z",
     "iopub.status.idle": "2023-06-15T09:19:43.218018Z",
     "shell.execute_reply": "2023-06-15T09:19:43.216753Z"
    },
    "papermill": {
     "duration": 1.568154,
     "end_time": "2023-06-15T09:19:43.220455",
     "exception": false,
     "start_time": "2023-06-15T09:19:41.652301",
     "status": "completed"
    },
    "tags": []
   },
   "outputs": [],
   "source": [
    "from sklearn.model_selection import train_test_split\n",
    "\n",
    "# train_x,train_y  - Training data , Training output\n",
    "# test_x, test_y - Testing Data Input, Compare model output with test_y\n",
    "\n",
    "\n",
    "train_x, test_x, train_y, test_y = train_test_split(x,y,\n",
    "                                                    test_size=0.2,\n",
    "                                                    random_state=108\n",
    "                                                    )\n"
   ]
  },
  {
   "cell_type": "markdown",
   "id": "c5e865db",
   "metadata": {
    "papermill": {
     "duration": 0.011253,
     "end_time": "2023-06-15T09:19:43.243269",
     "exception": false,
     "start_time": "2023-06-15T09:19:43.232016",
     "status": "completed"
    },
    "tags": []
   },
   "source": [
    "#### Shape of Train and Test Batches"
   ]
  },
  {
   "cell_type": "code",
   "execution_count": 10,
   "id": "c0da4be9",
   "metadata": {
    "execution": {
     "iopub.execute_input": "2023-06-15T09:19:43.268475Z",
     "iopub.status.busy": "2023-06-15T09:19:43.267930Z",
     "iopub.status.idle": "2023-06-15T09:19:43.273220Z",
     "shell.execute_reply": "2023-06-15T09:19:43.272433Z"
    },
    "papermill": {
     "duration": 0.02047,
     "end_time": "2023-06-15T09:19:43.275406",
     "exception": false,
     "start_time": "2023-06-15T09:19:43.254936",
     "status": "completed"
    },
    "tags": []
   },
   "outputs": [
    {
     "data": {
      "text/plain": [
       "((8000, 11), (2000, 11), (8000,), (2000,))"
      ]
     },
     "execution_count": 10,
     "metadata": {},
     "output_type": "execute_result"
    }
   ],
   "source": [
    "## Train data and test data will be in same shape\n",
    "## y is for prediction dont have a Target value\n",
    "\n",
    "train_x.shape, test_x.shape, train_y.shape, test_y.shape"
   ]
  },
  {
   "cell_type": "markdown",
   "id": "cb51a38a",
   "metadata": {
    "papermill": {
     "duration": 0.010864,
     "end_time": "2023-06-15T09:19:43.297638",
     "exception": false,
     "start_time": "2023-06-15T09:19:43.286774",
     "status": "completed"
    },
    "tags": []
   },
   "source": [
    "### Data Preprocessing"
   ]
  },
  {
   "cell_type": "code",
   "execution_count": 11,
   "id": "65561d72",
   "metadata": {
    "execution": {
     "iopub.execute_input": "2023-06-15T09:19:43.321338Z",
     "iopub.status.busy": "2023-06-15T09:19:43.320966Z",
     "iopub.status.idle": "2023-06-15T09:19:43.333660Z",
     "shell.execute_reply": "2023-06-15T09:19:43.332533Z"
    },
    "papermill": {
     "duration": 0.027265,
     "end_time": "2023-06-15T09:19:43.335941",
     "exception": false,
     "start_time": "2023-06-15T09:19:43.308676",
     "status": "completed"
    },
    "tags": []
   },
   "outputs": [],
   "source": [
    "#Standardize the data\n",
    "\n",
    "from sklearn.preprocessing import StandardScaler\n",
    "scale = StandardScaler()\n",
    "\n",
    "train_x_scale = scale.fit_transform(train_x)\n",
    "test_x_scale = scale.fit_transform(test_x)"
   ]
  },
  {
   "cell_type": "markdown",
   "id": "5d105b77",
   "metadata": {
    "papermill": {
     "duration": 0.011251,
     "end_time": "2023-06-15T09:19:43.358814",
     "exception": false,
     "start_time": "2023-06-15T09:19:43.347563",
     "status": "completed"
    },
    "tags": []
   },
   "source": [
    "### Model Building"
   ]
  },
  {
   "cell_type": "code",
   "execution_count": 12,
   "id": "12b63fc3",
   "metadata": {
    "execution": {
     "iopub.execute_input": "2023-06-15T09:19:43.384579Z",
     "iopub.status.busy": "2023-06-15T09:19:43.383338Z",
     "iopub.status.idle": "2023-06-15T09:19:53.346473Z",
     "shell.execute_reply": "2023-06-15T09:19:53.344500Z"
    },
    "papermill": {
     "duration": 9.97903,
     "end_time": "2023-06-15T09:19:53.349561",
     "exception": false,
     "start_time": "2023-06-15T09:19:43.370531",
     "status": "completed"
    },
    "tags": []
   },
   "outputs": [
    {
     "name": "stderr",
     "output_type": "stream",
     "text": [
      "/opt/conda/lib/python3.10/site-packages/tensorflow_io/python/ops/__init__.py:98: UserWarning: unable to load libtensorflow_io_plugins.so: unable to open file: libtensorflow_io_plugins.so, from paths: ['/opt/conda/lib/python3.10/site-packages/tensorflow_io/python/ops/libtensorflow_io_plugins.so']\n",
      "caused by: ['/opt/conda/lib/python3.10/site-packages/tensorflow_io/python/ops/libtensorflow_io_plugins.so: undefined symbol: _ZN3tsl6StatusC1EN10tensorflow5error4CodeESt17basic_string_viewIcSt11char_traitsIcEENS_14SourceLocationE']\n",
      "  warnings.warn(f\"unable to load libtensorflow_io_plugins.so: {e}\")\n",
      "/opt/conda/lib/python3.10/site-packages/tensorflow_io/python/ops/__init__.py:104: UserWarning: file system plugins are not loaded: unable to open file: libtensorflow_io.so, from paths: ['/opt/conda/lib/python3.10/site-packages/tensorflow_io/python/ops/libtensorflow_io.so']\n",
      "caused by: ['/opt/conda/lib/python3.10/site-packages/tensorflow_io/python/ops/libtensorflow_io.so: undefined symbol: _ZTVN10tensorflow13GcsFileSystemE']\n",
      "  warnings.warn(f\"file system plugins are not loaded: {e}\")\n"
     ]
    }
   ],
   "source": [
    "import tensorflow\n",
    "from tensorflow import keras\n",
    "from tensorflow.keras import Sequential\n",
    "from tensorflow.keras.layers import Dense"
   ]
  },
  {
   "cell_type": "code",
   "execution_count": 13,
   "id": "70982baa",
   "metadata": {
    "execution": {
     "iopub.execute_input": "2023-06-15T09:19:53.375591Z",
     "iopub.status.busy": "2023-06-15T09:19:53.374884Z",
     "iopub.status.idle": "2023-06-15T09:19:53.381428Z",
     "shell.execute_reply": "2023-06-15T09:19:53.379970Z"
    },
    "papermill": {
     "duration": 0.022256,
     "end_time": "2023-06-15T09:19:53.383519",
     "exception": false,
     "start_time": "2023-06-15T09:19:53.361263",
     "status": "completed"
    },
    "tags": []
   },
   "outputs": [
    {
     "data": {
      "text/plain": [
       "(10000, 11)"
      ]
     },
     "execution_count": 13,
     "metadata": {},
     "output_type": "execute_result"
    }
   ],
   "source": [
    "data.shape"
   ]
  },
  {
   "cell_type": "markdown",
   "id": "8a3ab12f",
   "metadata": {
    "papermill": {
     "duration": 0.01125,
     "end_time": "2023-06-15T09:19:53.406290",
     "exception": false,
     "start_time": "2023-06-15T09:19:53.395040",
     "status": "completed"
    },
    "tags": []
   },
   "source": [
    "### Adding Layers, Activation "
   ]
  },
  {
   "cell_type": "code",
   "execution_count": 14,
   "id": "574085a5",
   "metadata": {
    "execution": {
     "iopub.execute_input": "2023-06-15T09:19:53.431814Z",
     "iopub.status.busy": "2023-06-15T09:19:53.431397Z",
     "iopub.status.idle": "2023-06-15T09:19:53.618153Z",
     "shell.execute_reply": "2023-06-15T09:19:53.616819Z"
    },
    "papermill": {
     "duration": 0.202296,
     "end_time": "2023-06-15T09:19:53.620452",
     "exception": false,
     "start_time": "2023-06-15T09:19:53.418156",
     "status": "completed"
    },
    "tags": []
   },
   "outputs": [],
   "source": [
    "model = Sequential()\n",
    "model.add(Dense(3,activation='sigmoid',input_dim=11))\n",
    "model.add(Dense(1,activation='sigmoid')) # Output layer"
   ]
  },
  {
   "cell_type": "code",
   "execution_count": 15,
   "id": "37204eae",
   "metadata": {
    "execution": {
     "iopub.execute_input": "2023-06-15T09:19:53.644862Z",
     "iopub.status.busy": "2023-06-15T09:19:53.644544Z",
     "iopub.status.idle": "2023-06-15T09:19:53.663848Z",
     "shell.execute_reply": "2023-06-15T09:19:53.662868Z"
    },
    "papermill": {
     "duration": 0.033721,
     "end_time": "2023-06-15T09:19:53.665564",
     "exception": false,
     "start_time": "2023-06-15T09:19:53.631843",
     "status": "completed"
    },
    "tags": []
   },
   "outputs": [
    {
     "name": "stdout",
     "output_type": "stream",
     "text": [
      "Model: \"sequential\"\n",
      "_________________________________________________________________\n",
      " Layer (type)                Output Shape              Param #   \n",
      "=================================================================\n",
      " dense (Dense)               (None, 3)                 36        \n",
      "                                                                 \n",
      " dense_1 (Dense)             (None, 1)                 4         \n",
      "                                                                 \n",
      "=================================================================\n",
      "Total params: 40\n",
      "Trainable params: 40\n",
      "Non-trainable params: 0\n",
      "_________________________________________________________________\n"
     ]
    }
   ],
   "source": [
    "model.summary()\n",
    "# First layer --> 3 Dense layers\n",
    "# Output Layer --> 1 Dense layer\n",
    "# Total 40 trainable parameters"
   ]
  },
  {
   "cell_type": "markdown",
   "id": "eaaadb45",
   "metadata": {
    "papermill": {
     "duration": 0.011694,
     "end_time": "2023-06-15T09:19:53.689227",
     "exception": false,
     "start_time": "2023-06-15T09:19:53.677533",
     "status": "completed"
    },
    "tags": []
   },
   "source": [
    "### Model Compilation"
   ]
  },
  {
   "cell_type": "code",
   "execution_count": 16,
   "id": "c98ddb2f",
   "metadata": {
    "execution": {
     "iopub.execute_input": "2023-06-15T09:19:53.715012Z",
     "iopub.status.busy": "2023-06-15T09:19:53.714701Z",
     "iopub.status.idle": "2023-06-15T09:19:53.735901Z",
     "shell.execute_reply": "2023-06-15T09:19:53.734447Z"
    },
    "papermill": {
     "duration": 0.037118,
     "end_time": "2023-06-15T09:19:53.738427",
     "exception": false,
     "start_time": "2023-06-15T09:19:53.701309",
     "status": "completed"
    },
    "tags": []
   },
   "outputs": [],
   "source": [
    "# Model is built,  now compilation stage\n",
    "# Which Loss functio and Optimizer to use\n",
    "\n",
    "model.compile(loss='binary_crossentropy',optimizer='Adam') # loss binary classification (logloss)\n",
    "\n",
    "# loss brings the error, Adam backpropogates and updates Weights and Bias before each epochs"
   ]
  },
  {
   "cell_type": "markdown",
   "id": "592a3224",
   "metadata": {
    "papermill": {
     "duration": 0.01193,
     "end_time": "2023-06-15T09:19:53.762558",
     "exception": false,
     "start_time": "2023-06-15T09:19:53.750628",
     "status": "completed"
    },
    "tags": []
   },
   "source": [
    "### Model Fitting / Training"
   ]
  },
  {
   "cell_type": "code",
   "execution_count": 17,
   "id": "ddb7ea83",
   "metadata": {
    "execution": {
     "iopub.execute_input": "2023-06-15T09:19:53.789044Z",
     "iopub.status.busy": "2023-06-15T09:19:53.788531Z",
     "iopub.status.idle": "2023-06-15T09:19:58.632754Z",
     "shell.execute_reply": "2023-06-15T09:19:58.631717Z"
    },
    "papermill": {
     "duration": 4.860257,
     "end_time": "2023-06-15T09:19:58.635078",
     "exception": false,
     "start_time": "2023-06-15T09:19:53.774821",
     "status": "completed"
    },
    "tags": []
   },
   "outputs": [
    {
     "name": "stdout",
     "output_type": "stream",
     "text": [
      "Epoch 1/10\n",
      "250/250 [==============================] - 1s 2ms/step - loss: 0.7996\n",
      "Epoch 2/10\n",
      "250/250 [==============================] - 0s 2ms/step - loss: 0.6181\n",
      "Epoch 3/10\n",
      "250/250 [==============================] - 0s 2ms/step - loss: 0.5235\n",
      "Epoch 4/10\n",
      "250/250 [==============================] - 0s 2ms/step - loss: 0.4790\n",
      "Epoch 5/10\n",
      "250/250 [==============================] - 0s 2ms/step - loss: 0.4584\n",
      "Epoch 6/10\n",
      "250/250 [==============================] - 0s 2ms/step - loss: 0.4476\n",
      "Epoch 7/10\n",
      "250/250 [==============================] - 0s 2ms/step - loss: 0.4407\n",
      "Epoch 8/10\n",
      "250/250 [==============================] - 0s 2ms/step - loss: 0.4359\n",
      "Epoch 9/10\n",
      "250/250 [==============================] - 0s 2ms/step - loss: 0.4321\n",
      "Epoch 10/10\n",
      "250/250 [==============================] - 0s 1ms/step - loss: 0.4293\n"
     ]
    }
   ],
   "source": [
    "# History\n",
    "\n",
    "hist = model.fit(train_x_scale,train_y, epochs=10)"
   ]
  },
  {
   "cell_type": "markdown",
   "id": "fbdb4634",
   "metadata": {
    "papermill": {
     "duration": 0.019247,
     "end_time": "2023-06-15T09:19:58.676491",
     "exception": false,
     "start_time": "2023-06-15T09:19:58.657244",
     "status": "completed"
    },
    "tags": []
   },
   "source": [
    "#### Increase the Epochs"
   ]
  },
  {
   "cell_type": "code",
   "execution_count": 18,
   "id": "6599df2e",
   "metadata": {
    "execution": {
     "iopub.execute_input": "2023-06-15T09:19:58.715776Z",
     "iopub.status.busy": "2023-06-15T09:19:58.714874Z",
     "iopub.status.idle": "2023-06-15T09:20:03.881613Z",
     "shell.execute_reply": "2023-06-15T09:20:03.879923Z"
    },
    "papermill": {
     "duration": 5.189667,
     "end_time": "2023-06-15T09:20:03.884729",
     "exception": false,
     "start_time": "2023-06-15T09:19:58.695062",
     "status": "completed"
    },
    "tags": []
   },
   "outputs": [
    {
     "name": "stdout",
     "output_type": "stream",
     "text": [
      "Epoch 1/12\n",
      "250/250 [==============================] - 0s 1ms/step - loss: 0.4272\n",
      "Epoch 2/12\n",
      "250/250 [==============================] - 0s 2ms/step - loss: 0.4256\n",
      "Epoch 3/12\n",
      "250/250 [==============================] - 0s 2ms/step - loss: 0.4245\n",
      "Epoch 4/12\n",
      "250/250 [==============================] - 0s 2ms/step - loss: 0.4237\n",
      "Epoch 5/12\n",
      "250/250 [==============================] - 0s 2ms/step - loss: 0.4231\n",
      "Epoch 6/12\n",
      "250/250 [==============================] - 0s 2ms/step - loss: 0.4226\n",
      "Epoch 7/12\n",
      "250/250 [==============================] - 0s 2ms/step - loss: 0.4221\n",
      "Epoch 8/12\n",
      "250/250 [==============================] - 0s 2ms/step - loss: 0.4217\n",
      "Epoch 9/12\n",
      "250/250 [==============================] - 0s 2ms/step - loss: 0.4212\n",
      "Epoch 10/12\n",
      "250/250 [==============================] - 0s 2ms/step - loss: 0.4207\n",
      "Epoch 11/12\n",
      "250/250 [==============================] - 0s 2ms/step - loss: 0.4202\n",
      "Epoch 12/12\n",
      "250/250 [==============================] - 0s 2ms/step - loss: 0.4194\n"
     ]
    }
   ],
   "source": [
    "# run again, itll start from minimum loss \n",
    "\n",
    "hist = model.fit(train_x_scale,train_y, epochs=12)"
   ]
  },
  {
   "cell_type": "code",
   "execution_count": 19,
   "id": "57ec9d0e",
   "metadata": {
    "execution": {
     "iopub.execute_input": "2023-06-15T09:20:03.939780Z",
     "iopub.status.busy": "2023-06-15T09:20:03.939393Z",
     "iopub.status.idle": "2023-06-15T09:20:03.947355Z",
     "shell.execute_reply": "2023-06-15T09:20:03.945741Z"
    },
    "papermill": {
     "duration": 0.039162,
     "end_time": "2023-06-15T09:20:03.950358",
     "exception": false,
     "start_time": "2023-06-15T09:20:03.911196",
     "status": "completed"
    },
    "tags": []
   },
   "outputs": [
    {
     "data": {
      "text/plain": [
       "{'loss': [0.42720237374305725,\n",
       "  0.42562082409858704,\n",
       "  0.42451712489128113,\n",
       "  0.4237106740474701,\n",
       "  0.42306002974510193,\n",
       "  0.4225560426712036,\n",
       "  0.4220609962940216,\n",
       "  0.42165228724479675,\n",
       "  0.4212222695350647,\n",
       "  0.42069146037101746,\n",
       "  0.4201727509498596,\n",
       "  0.4194357991218567]}"
      ]
     },
     "execution_count": 19,
     "metadata": {},
     "output_type": "execute_result"
    }
   ],
   "source": [
    "# See how loss decreases\n",
    "hist.history"
   ]
  },
  {
   "cell_type": "markdown",
   "id": "7f9c81e9",
   "metadata": {
    "papermill": {
     "duration": 0.02599,
     "end_time": "2023-06-15T09:20:04.003850",
     "exception": false,
     "start_time": "2023-06-15T09:20:03.977860",
     "status": "completed"
    },
    "tags": []
   },
   "source": [
    "#### Plot the Loss"
   ]
  },
  {
   "cell_type": "code",
   "execution_count": 20,
   "id": "e1ad621f",
   "metadata": {
    "execution": {
     "iopub.execute_input": "2023-06-15T09:20:04.057788Z",
     "iopub.status.busy": "2023-06-15T09:20:04.057425Z",
     "iopub.status.idle": "2023-06-15T09:20:04.260357Z",
     "shell.execute_reply": "2023-06-15T09:20:04.259008Z"
    },
    "papermill": {
     "duration": 0.232791,
     "end_time": "2023-06-15T09:20:04.262793",
     "exception": false,
     "start_time": "2023-06-15T09:20:04.030002",
     "status": "completed"
    },
    "tags": []
   },
   "outputs": [
    {
     "data": {
      "image/png": "[encoded data removed]",
      "text/plain": [
       "<Figure size 640x480 with 1 Axes>"
      ]
     },
     "metadata": {},
     "output_type": "display_data"
    }
   ],
   "source": [
    "# Plot the loss\n",
    "import matplotlib.pyplot as plt\n",
    "\n",
    "plt.plot(hist.history['loss'])\n",
    "plt.show()"
   ]
  },
  {
   "cell_type": "markdown",
   "id": "e3ff3c6f",
   "metadata": {
    "papermill": {
     "duration": 0.026126,
     "end_time": "2023-06-15T09:20:04.315361",
     "exception": false,
     "start_time": "2023-06-15T09:20:04.289235",
     "status": "completed"
    },
    "tags": []
   },
   "source": [
    "### Weights and Bias in each layer"
   ]
  },
  {
   "cell_type": "code",
   "execution_count": 21,
   "id": "6e7c902b",
   "metadata": {
    "execution": {
     "iopub.execute_input": "2023-06-15T09:20:04.370202Z",
     "iopub.status.busy": "2023-06-15T09:20:04.369844Z",
     "iopub.status.idle": "2023-06-15T09:20:04.380450Z",
     "shell.execute_reply": "2023-06-15T09:20:04.378737Z"
    },
    "papermill": {
     "duration": 0.040317,
     "end_time": "2023-06-15T09:20:04.382971",
     "exception": false,
     "start_time": "2023-06-15T09:20:04.342654",
     "status": "completed"
    },
    "tags": []
   },
   "outputs": [
    {
     "data": {
      "text/plain": [
       "[array([[-0.03765679, -0.18283466,  0.00283872],\n",
       "        [-1.2315378 ,  2.6238828 , -2.0022252 ],\n",
       "        [ 0.33911574, -0.05833374, -0.13518143],\n",
       "        [-0.68919915,  0.01674364, -0.23410754],\n",
       "        [ 0.11459322,  0.10743964,  0.2899412 ],\n",
       "        [ 0.25989553,  0.04126747, -0.04741899],\n",
       "        [ 1.2863064 , -0.02530185,  0.8012578 ],\n",
       "        [ 0.15443729,  0.2010533 , -0.07922583],\n",
       "        [-0.6535194 ,  0.35824853, -0.65970093],\n",
       "        [-0.16999662, -0.18697216,  0.08599296],\n",
       "        [ 0.9280664 , -0.13532856,  0.48856634]], dtype=float32),\n",
       " array([ 0.5582487 , -0.42191863,  0.8128882 ], dtype=float32)]"
      ]
     },
     "execution_count": 21,
     "metadata": {},
     "output_type": "execute_result"
    }
   ],
   "source": [
    "# TO know abt weights and biases in First Hidden Layer\n",
    "model.layers[0].get_weights()"
   ]
  },
  {
   "cell_type": "markdown",
   "id": "4d6d07f0",
   "metadata": {
    "execution": {
     "iopub.execute_input": "2023-06-15T07:13:40.041224Z",
     "iopub.status.busy": "2023-06-15T07:13:40.040743Z",
     "iopub.status.idle": "2023-06-15T07:13:40.049088Z",
     "shell.execute_reply": "2023-06-15T07:13:40.047393Z",
     "shell.execute_reply.started": "2023-06-15T07:13:40.041190Z"
    },
    "papermill": {
     "duration": 0.025356,
     "end_time": "2023-06-15T09:20:04.433824",
     "exception": false,
     "start_time": "2023-06-15T09:20:04.408468",
     "status": "completed"
    },
    "tags": []
   },
   "source": [
    "Its of the Form of \n",
    "* weights - 11*3 --> Features * 3 Nodes\n",
    "* bias - 3 --> One bias to Each Nodes"
   ]
  },
  {
   "cell_type": "code",
   "execution_count": 22,
   "id": "51769afe",
   "metadata": {
    "execution": {
     "iopub.execute_input": "2023-06-15T09:20:04.489089Z",
     "iopub.status.busy": "2023-06-15T09:20:04.488710Z",
     "iopub.status.idle": "2023-06-15T09:20:04.499845Z",
     "shell.execute_reply": "2023-06-15T09:20:04.497791Z"
    },
    "papermill": {
     "duration": 0.041566,
     "end_time": "2023-06-15T09:20:04.502207",
     "exception": false,
     "start_time": "2023-06-15T09:20:04.460641",
     "status": "completed"
    },
    "tags": []
   },
   "outputs": [
    {
     "data": {
      "text/plain": [
       "[array([[-1.0574646 ],\n",
       "        [ 0.99363685],\n",
       "        [-1.2472576 ]], dtype=float32),\n",
       " array([-0.6720418], dtype=float32)]"
      ]
     },
     "execution_count": 22,
     "metadata": {},
     "output_type": "execute_result"
    }
   ],
   "source": [
    "# Weights and Biases in Output Layer\n",
    "model.layers[1].get_weights()"
   ]
  },
  {
   "cell_type": "markdown",
   "id": "8321bc6d",
   "metadata": {
    "papermill": {
     "duration": 0.026818,
     "end_time": "2023-06-15T09:20:04.555503",
     "exception": false,
     "start_time": "2023-06-15T09:20:04.528685",
     "status": "completed"
    },
    "tags": []
   },
   "source": [
    "* Weights - 3*1 --> Output from previous layer 3 nodes \n",
    "* Bias - One node in this layer"
   ]
  },
  {
   "cell_type": "markdown",
   "id": "5ec1d9f4",
   "metadata": {
    "papermill": {
     "duration": 0.027508,
     "end_time": "2023-06-15T09:20:04.610341",
     "exception": false,
     "start_time": "2023-06-15T09:20:04.582833",
     "status": "completed"
    },
    "tags": []
   },
   "source": [
    "### Predicting the model"
   ]
  },
  {
   "cell_type": "code",
   "execution_count": 23,
   "id": "bc4ae5fe",
   "metadata": {
    "execution": {
     "iopub.execute_input": "2023-06-15T09:20:04.665362Z",
     "iopub.status.busy": "2023-06-15T09:20:04.665044Z",
     "iopub.status.idle": "2023-06-15T09:20:04.901038Z",
     "shell.execute_reply": "2023-06-15T09:20:04.900071Z"
    },
    "papermill": {
     "duration": 0.265268,
     "end_time": "2023-06-15T09:20:04.903064",
     "exception": false,
     "start_time": "2023-06-15T09:20:04.637796",
     "status": "completed"
    },
    "tags": []
   },
   "outputs": [
    {
     "name": "stdout",
     "output_type": "stream",
     "text": [
      "63/63 [==============================] - 0s 1ms/step\n"
     ]
    },
    {
     "data": {
      "text/plain": [
       "array([[0.18845913],\n",
       "       [0.07540324],\n",
       "       [0.10159832],\n",
       "       ...,\n",
       "       [0.09968058],\n",
       "       [0.06909207],\n",
       "       [0.06960746]], dtype=float32)"
      ]
     },
     "execution_count": 23,
     "metadata": {},
     "output_type": "execute_result"
    }
   ],
   "source": [
    "# Predict the model\n",
    "\n",
    "model.predict(test_x_scale) "
   ]
  },
  {
   "cell_type": "code",
   "execution_count": 24,
   "id": "901f3224",
   "metadata": {
    "execution": {
     "iopub.execute_input": "2023-06-15T09:20:04.957685Z",
     "iopub.status.busy": "2023-06-15T09:20:04.957276Z",
     "iopub.status.idle": "2023-06-15T09:20:05.089743Z",
     "shell.execute_reply": "2023-06-15T09:20:05.088348Z"
    },
    "papermill": {
     "duration": 0.162906,
     "end_time": "2023-06-15T09:20:05.092070",
     "exception": false,
     "start_time": "2023-06-15T09:20:04.929164",
     "status": "completed"
    },
    "tags": []
   },
   "outputs": [
    {
     "name": "stdout",
     "output_type": "stream",
     "text": [
      "63/63 [==============================] - 0s 844us/step\n"
     ]
    },
    {
     "data": {
      "text/plain": [
       "array([[0],\n",
       "       [0],\n",
       "       [0],\n",
       "       ...,\n",
       "       [0],\n",
       "       [0],\n",
       "       [0]])"
      ]
     },
     "execution_count": 24,
     "metadata": {},
     "output_type": "execute_result"
    }
   ],
   "source": [
    "# Since its in sigmoid, it list as prob\n",
    "## Set a Threshold and list it a Binary code\n",
    "\n",
    "y_pred = np.where(model.predict(test_x_scale)>0.5,1,0)\n",
    "y_pred"
   ]
  },
  {
   "cell_type": "markdown",
   "id": "95d89334",
   "metadata": {
    "papermill": {
     "duration": 0.027184,
     "end_time": "2023-06-15T09:20:05.146095",
     "exception": false,
     "start_time": "2023-06-15T09:20:05.118911",
     "status": "completed"
    },
    "tags": []
   },
   "source": [
    "### Model Performance"
   ]
  },
  {
   "cell_type": "code",
   "execution_count": 25,
   "id": "466b02d5",
   "metadata": {
    "execution": {
     "iopub.execute_input": "2023-06-15T09:20:05.202169Z",
     "iopub.status.busy": "2023-06-15T09:20:05.201838Z",
     "iopub.status.idle": "2023-06-15T09:20:05.212853Z",
     "shell.execute_reply": "2023-06-15T09:20:05.211144Z"
    },
    "papermill": {
     "duration": 0.041797,
     "end_time": "2023-06-15T09:20:05.215555",
     "exception": false,
     "start_time": "2023-06-15T09:20:05.173758",
     "status": "completed"
    },
    "tags": []
   },
   "outputs": [
    {
     "data": {
      "text/plain": [
       "0.8"
      ]
     },
     "execution_count": 25,
     "metadata": {},
     "output_type": "execute_result"
    }
   ],
   "source": [
    "# Performance of a model\n",
    "\n",
    "from sklearn.metrics import accuracy_score\n",
    "\n",
    "accuracy_score(test_y,y_pred)"
   ]
  },
  {
   "cell_type": "markdown",
   "id": "9ba4191d",
   "metadata": {
    "papermill": {
     "duration": 0.026983,
     "end_time": "2023-06-15T09:20:05.269572",
     "exception": false,
     "start_time": "2023-06-15T09:20:05.242589",
     "status": "completed"
    },
    "tags": []
   },
   "source": [
    "## Hyper Parameter Tuning"
   ]
  },
  {
   "cell_type": "markdown",
   "id": "77e2f068",
   "metadata": {
    "papermill": {
     "duration": 0.026299,
     "end_time": "2023-06-15T09:20:05.322941",
     "exception": false,
     "start_time": "2023-06-15T09:20:05.296642",
     "status": "completed"
    },
    "tags": []
   },
   "source": [
    "There are many ways to improve the Performance of the Model \n",
    "**Hyper Parameter Tuning**\n",
    "\n",
    "* *Change the number of Layers*\n",
    "* *Increase number of nodes*\n",
    "* *Change the Activation Layers*\n",
    "* *Increse the number of epochs*"
   ]
  },
  {
   "cell_type": "markdown",
   "id": "fe620377",
   "metadata": {
    "papermill": {
     "duration": 0.026466,
     "end_time": "2023-06-15T09:20:05.376566",
     "exception": false,
     "start_time": "2023-06-15T09:20:05.350100",
     "status": "completed"
    },
    "tags": []
   },
   "source": [
    "## Model Building"
   ]
  },
  {
   "cell_type": "code",
   "execution_count": 26,
   "id": "2c5422e6",
   "metadata": {
    "execution": {
     "iopub.execute_input": "2023-06-15T09:20:05.433294Z",
     "iopub.status.busy": "2023-06-15T09:20:05.432888Z",
     "iopub.status.idle": "2023-06-15T09:20:05.496722Z",
     "shell.execute_reply": "2023-06-15T09:20:05.495413Z"
    },
    "papermill": {
     "duration": 0.095606,
     "end_time": "2023-06-15T09:20:05.499086",
     "exception": false,
     "start_time": "2023-06-15T09:20:05.403480",
     "status": "completed"
    },
    "tags": []
   },
   "outputs": [
    {
     "name": "stdout",
     "output_type": "stream",
     "text": [
      "Model: \"sequential_1\"\n",
      "_________________________________________________________________\n",
      " Layer (type)                Output Shape              Param #   \n",
      "=================================================================\n",
      " dense_2 (Dense)             (None, 11)                132       \n",
      "                                                                 \n",
      " dense_3 (Dense)             (None, 11)                132       \n",
      "                                                                 \n",
      " dense_4 (Dense)             (None, 1)                 12        \n",
      "                                                                 \n",
      "=================================================================\n",
      "Total params: 276\n",
      "Trainable params: 276\n",
      "Non-trainable params: 0\n",
      "_________________________________________________________________\n"
     ]
    }
   ],
   "source": [
    "model = Sequential()\n",
    "\n",
    "model.add(Dense(11,activation='relu',input_dim=11))\n",
    "model.add(Dense(11,activation='relu'))\n",
    "model.add(Dense(1,activation='sigmoid'))\n",
    "\n",
    "model.summary()"
   ]
  },
  {
   "cell_type": "markdown",
   "id": "b5cad237",
   "metadata": {
    "papermill": {
     "duration": 0.028597,
     "end_time": "2023-06-15T09:20:05.555479",
     "exception": false,
     "start_time": "2023-06-15T09:20:05.526882",
     "status": "completed"
    },
    "tags": []
   },
   "source": [
    "### Compile"
   ]
  },
  {
   "cell_type": "code",
   "execution_count": 27,
   "id": "8b5da89a",
   "metadata": {
    "execution": {
     "iopub.execute_input": "2023-06-15T09:20:05.613115Z",
     "iopub.status.busy": "2023-06-15T09:20:05.612776Z",
     "iopub.status.idle": "2023-06-15T09:20:05.625719Z",
     "shell.execute_reply": "2023-06-15T09:20:05.624580Z"
    },
    "papermill": {
     "duration": 0.044576,
     "end_time": "2023-06-15T09:20:05.628062",
     "exception": false,
     "start_time": "2023-06-15T09:20:05.583486",
     "status": "completed"
    },
    "tags": []
   },
   "outputs": [],
   "source": [
    "model.compile(loss='binary_crossentropy',optimizer='Adam',metrics=['accuracy'])"
   ]
  },
  {
   "cell_type": "code",
   "execution_count": 28,
   "id": "b42a9bd2",
   "metadata": {
    "execution": {
     "iopub.execute_input": "2023-06-15T09:20:05.688364Z",
     "iopub.status.busy": "2023-06-15T09:20:05.686966Z",
     "iopub.status.idle": "2023-06-15T09:20:24.000188Z",
     "shell.execute_reply": "2023-06-15T09:20:23.998948Z"
    },
    "papermill": {
     "duration": 18.346878,
     "end_time": "2023-06-15T09:20:24.002747",
     "exception": false,
     "start_time": "2023-06-15T09:20:05.655869",
     "status": "completed"
    },
    "tags": []
   },
   "outputs": [
    {
     "name": "stdout",
     "output_type": "stream",
     "text": [
      "Epoch 1/40\n",
      "200/200 [==============================] - 1s 4ms/step - loss: 0.6129 - accuracy: 0.6644 - val_loss: 0.4764 - val_accuracy: 0.8106\n",
      "Epoch 2/40\n",
      "200/200 [==============================] - 0s 2ms/step - loss: 0.4680 - accuracy: 0.7992 - val_loss: 0.4400 - val_accuracy: 0.8106\n",
      "Epoch 3/40\n",
      "200/200 [==============================] - 0s 2ms/step - loss: 0.4375 - accuracy: 0.8053 - val_loss: 0.4185 - val_accuracy: 0.8163\n",
      "Epoch 4/40\n",
      "200/200 [==============================] - 0s 2ms/step - loss: 0.4184 - accuracy: 0.8173 - val_loss: 0.4053 - val_accuracy: 0.8263\n",
      "Epoch 5/40\n",
      "200/200 [==============================] - 0s 2ms/step - loss: 0.4055 - accuracy: 0.8267 - val_loss: 0.3947 - val_accuracy: 0.8288\n",
      "Epoch 6/40\n",
      "200/200 [==============================] - 0s 2ms/step - loss: 0.3938 - accuracy: 0.8359 - val_loss: 0.3857 - val_accuracy: 0.8406\n",
      "Epoch 7/40\n",
      "200/200 [==============================] - 0s 2ms/step - loss: 0.3830 - accuracy: 0.8425 - val_loss: 0.3798 - val_accuracy: 0.8469\n",
      "Epoch 8/40\n",
      "200/200 [==============================] - 0s 2ms/step - loss: 0.3729 - accuracy: 0.8472 - val_loss: 0.3690 - val_accuracy: 0.8475\n",
      "Epoch 9/40\n",
      "200/200 [==============================] - 0s 2ms/step - loss: 0.3639 - accuracy: 0.8491 - val_loss: 0.3627 - val_accuracy: 0.8531\n",
      "Epoch 10/40\n",
      "200/200 [==============================] - 0s 2ms/step - loss: 0.3562 - accuracy: 0.8553 - val_loss: 0.3576 - val_accuracy: 0.8569\n",
      "Epoch 11/40\n",
      "200/200 [==============================] - 0s 2ms/step - loss: 0.3510 - accuracy: 0.8558 - val_loss: 0.3547 - val_accuracy: 0.8587\n",
      "Epoch 12/40\n",
      "200/200 [==============================] - 0s 2ms/step - loss: 0.3472 - accuracy: 0.8583 - val_loss: 0.3531 - val_accuracy: 0.8587\n",
      "Epoch 13/40\n",
      "200/200 [==============================] - 0s 2ms/step - loss: 0.3444 - accuracy: 0.8598 - val_loss: 0.3513 - val_accuracy: 0.8581\n",
      "Epoch 14/40\n",
      "200/200 [==============================] - 0s 2ms/step - loss: 0.3417 - accuracy: 0.8627 - val_loss: 0.3512 - val_accuracy: 0.8531\n",
      "Epoch 15/40\n",
      "200/200 [==============================] - 0s 2ms/step - loss: 0.3406 - accuracy: 0.8602 - val_loss: 0.3490 - val_accuracy: 0.8575\n",
      "Epoch 16/40\n",
      "200/200 [==============================] - 0s 2ms/step - loss: 0.3390 - accuracy: 0.8620 - val_loss: 0.3495 - val_accuracy: 0.8556\n",
      "Epoch 17/40\n",
      "200/200 [==============================] - 0s 2ms/step - loss: 0.3373 - accuracy: 0.8612 - val_loss: 0.3488 - val_accuracy: 0.8575\n",
      "Epoch 18/40\n",
      "200/200 [==============================] - 0s 2ms/step - loss: 0.3363 - accuracy: 0.8623 - val_loss: 0.3487 - val_accuracy: 0.8544\n",
      "Epoch 19/40\n",
      "200/200 [==============================] - 0s 2ms/step - loss: 0.3356 - accuracy: 0.8622 - val_loss: 0.3479 - val_accuracy: 0.8556\n",
      "Epoch 20/40\n",
      "200/200 [==============================] - 0s 2ms/step - loss: 0.3343 - accuracy: 0.8620 - val_loss: 0.3467 - val_accuracy: 0.8544\n",
      "Epoch 21/40\n",
      "200/200 [==============================] - 0s 2ms/step - loss: 0.3334 - accuracy: 0.8627 - val_loss: 0.3460 - val_accuracy: 0.8506\n",
      "Epoch 22/40\n",
      "200/200 [==============================] - 0s 2ms/step - loss: 0.3326 - accuracy: 0.8642 - val_loss: 0.3483 - val_accuracy: 0.8550\n",
      "Epoch 23/40\n",
      "200/200 [==============================] - 0s 2ms/step - loss: 0.3327 - accuracy: 0.8631 - val_loss: 0.3476 - val_accuracy: 0.8537\n",
      "Epoch 24/40\n",
      "200/200 [==============================] - 0s 2ms/step - loss: 0.3318 - accuracy: 0.8650 - val_loss: 0.3452 - val_accuracy: 0.8550\n",
      "Epoch 25/40\n",
      "200/200 [==============================] - 0s 2ms/step - loss: 0.3312 - accuracy: 0.8644 - val_loss: 0.3461 - val_accuracy: 0.8537\n",
      "Epoch 26/40\n",
      "200/200 [==============================] - 0s 2ms/step - loss: 0.3305 - accuracy: 0.8652 - val_loss: 0.3459 - val_accuracy: 0.8556\n",
      "Epoch 27/40\n",
      "200/200 [==============================] - 0s 2ms/step - loss: 0.3300 - accuracy: 0.8655 - val_loss: 0.3470 - val_accuracy: 0.8537\n",
      "Epoch 28/40\n",
      "200/200 [==============================] - 0s 2ms/step - loss: 0.3292 - accuracy: 0.8656 - val_loss: 0.3464 - val_accuracy: 0.8512\n",
      "Epoch 29/40\n",
      "200/200 [==============================] - 0s 2ms/step - loss: 0.3291 - accuracy: 0.8647 - val_loss: 0.3471 - val_accuracy: 0.8525\n",
      "Epoch 30/40\n",
      "200/200 [==============================] - 0s 2ms/step - loss: 0.3291 - accuracy: 0.8644 - val_loss: 0.3466 - val_accuracy: 0.8525\n",
      "Epoch 31/40\n",
      "200/200 [==============================] - 0s 2ms/step - loss: 0.3280 - accuracy: 0.8658 - val_loss: 0.3493 - val_accuracy: 0.8531\n",
      "Epoch 32/40\n",
      "200/200 [==============================] - 0s 2ms/step - loss: 0.3282 - accuracy: 0.8653 - val_loss: 0.3465 - val_accuracy: 0.8537\n",
      "Epoch 33/40\n",
      "200/200 [==============================] - 0s 2ms/step - loss: 0.3275 - accuracy: 0.8644 - val_loss: 0.3489 - val_accuracy: 0.8544\n",
      "Epoch 34/40\n",
      "200/200 [==============================] - 0s 2ms/step - loss: 0.3271 - accuracy: 0.8641 - val_loss: 0.3456 - val_accuracy: 0.8525\n",
      "Epoch 35/40\n",
      "200/200 [==============================] - 0s 2ms/step - loss: 0.3270 - accuracy: 0.8647 - val_loss: 0.3474 - val_accuracy: 0.8537\n",
      "Epoch 36/40\n",
      "200/200 [==============================] - 0s 2ms/step - loss: 0.3270 - accuracy: 0.8652 - val_loss: 0.3460 - val_accuracy: 0.8544\n",
      "Epoch 37/40\n",
      "200/200 [==============================] - 0s 2ms/step - loss: 0.3265 - accuracy: 0.8631 - val_loss: 0.3469 - val_accuracy: 0.8531\n",
      "Epoch 38/40\n",
      "200/200 [==============================] - 0s 2ms/step - loss: 0.3263 - accuracy: 0.8666 - val_loss: 0.3452 - val_accuracy: 0.8562\n",
      "Epoch 39/40\n",
      "200/200 [==============================] - 0s 2ms/step - loss: 0.3265 - accuracy: 0.8669 - val_loss: 0.3476 - val_accuracy: 0.8544\n",
      "Epoch 40/40\n",
      "200/200 [==============================] - 0s 2ms/step - loss: 0.3257 - accuracy: 0.8664 - val_loss: 0.3476 - val_accuracy: 0.8525\n"
     ]
    }
   ],
   "source": [
    "hist = model.fit(train_x_scale,train_y,epochs=40,validation_split=0.2)"
   ]
  },
  {
   "cell_type": "markdown",
   "id": "98cd487b",
   "metadata": {
    "papermill": {
     "duration": 0.050328,
     "end_time": "2023-06-15T09:20:24.103426",
     "exception": false,
     "start_time": "2023-06-15T09:20:24.053098",
     "status": "completed"
    },
    "tags": []
   },
   "source": [
    "Loss is decreased resulting in a better performance"
   ]
  },
  {
   "cell_type": "code",
   "execution_count": 29,
   "id": "dca39e3d",
   "metadata": {
    "execution": {
     "iopub.execute_input": "2023-06-15T09:20:24.204690Z",
     "iopub.status.busy": "2023-06-15T09:20:24.204286Z",
     "iopub.status.idle": "2023-06-15T09:20:24.402007Z",
     "shell.execute_reply": "2023-06-15T09:20:24.401178Z"
    },
    "papermill": {
     "duration": 0.250728,
     "end_time": "2023-06-15T09:20:24.403978",
     "exception": false,
     "start_time": "2023-06-15T09:20:24.153250",
     "status": "completed"
    },
    "tags": []
   },
   "outputs": [
    {
     "data": {
      "image/png": "[encoded data removed]",
      "text/plain": [
       "<Figure size 640x480 with 1 Axes>"
      ]
     },
     "metadata": {},
     "output_type": "display_data"
    }
   ],
   "source": [
    "plt.plot(hist.history['loss'])\n",
    "plt.plot(hist.history['val_loss'])\n",
    "plt.legend(['loss','val_loss'])\n",
    "plt.show()"
   ]
  },
  {
   "cell_type": "code",
   "execution_count": 30,
   "id": "713615b6",
   "metadata": {
    "execution": {
     "iopub.execute_input": "2023-06-15T09:20:24.505117Z",
     "iopub.status.busy": "2023-06-15T09:20:24.504736Z",
     "iopub.status.idle": "2023-06-15T09:20:24.724992Z",
     "shell.execute_reply": "2023-06-15T09:20:24.723649Z"
    },
    "papermill": {
     "duration": 0.273194,
     "end_time": "2023-06-15T09:20:24.727441",
     "exception": false,
     "start_time": "2023-06-15T09:20:24.454247",
     "status": "completed"
    },
    "tags": []
   },
   "outputs": [
    {
     "data": {
      "image/png": "[encoded data removed]",
      "text/plain": [
       "<Figure size 640x480 with 1 Axes>"
      ]
     },
     "metadata": {},
     "output_type": "display_data"
    }
   ],
   "source": [
    "plt.plot(hist.history['accuracy'])\n",
    "plt.plot(hist.history['val_accuracy'])\n",
    "plt.legend(['accuracy','val_accuracy'])\n",
    "plt.show()"
   ]
  },
  {
   "cell_type": "code",
   "execution_count": 31,
   "id": "b27216db",
   "metadata": {
    "execution": {
     "iopub.execute_input": "2023-06-15T09:20:24.828082Z",
     "iopub.status.busy": "2023-06-15T09:20:24.827726Z",
     "iopub.status.idle": "2023-06-15T09:20:24.981406Z",
     "shell.execute_reply": "2023-06-15T09:20:24.980428Z"
    },
    "papermill": {
     "duration": 0.206415,
     "end_time": "2023-06-15T09:20:24.983205",
     "exception": false,
     "start_time": "2023-06-15T09:20:24.776790",
     "status": "completed"
    },
    "tags": []
   },
   "outputs": [
    {
     "name": "stdout",
     "output_type": "stream",
     "text": [
      "63/63 [==============================] - 0s 794us/step\n"
     ]
    },
    {
     "data": {
      "text/plain": [
       "array([[0],\n",
       "       [0],\n",
       "       [0],\n",
       "       ...,\n",
       "       [0],\n",
       "       [0],\n",
       "       [0]])"
      ]
     },
     "execution_count": 31,
     "metadata": {},
     "output_type": "execute_result"
    }
   ],
   "source": [
    "y_pred = np.where(model.predict(test_x_scale)>0.5,1,0)\n",
    "y_pred"
   ]
  },
  {
   "cell_type": "markdown",
   "id": "685f0c39",
   "metadata": {
    "papermill": {
     "duration": 0.04896,
     "end_time": "2023-06-15T09:20:25.081213",
     "exception": false,
     "start_time": "2023-06-15T09:20:25.032253",
     "status": "completed"
    },
    "tags": []
   },
   "source": [
    "### Better Accuracy "
   ]
  },
  {
   "cell_type": "code",
   "execution_count": 32,
   "id": "9cb3b048",
   "metadata": {
    "execution": {
     "iopub.execute_input": "2023-06-15T09:20:25.181913Z",
     "iopub.status.busy": "2023-06-15T09:20:25.181596Z",
     "iopub.status.idle": "2023-06-15T09:20:25.193479Z",
     "shell.execute_reply": "2023-06-15T09:20:25.191723Z"
    },
    "papermill": {
     "duration": 0.064829,
     "end_time": "2023-06-15T09:20:25.195979",
     "exception": false,
     "start_time": "2023-06-15T09:20:25.131150",
     "status": "completed"
    },
    "tags": []
   },
   "outputs": [
    {
     "data": {
      "text/plain": [
       "0.8515"
      ]
     },
     "execution_count": 32,
     "metadata": {},
     "output_type": "execute_result"
    }
   ],
   "source": [
    "accuracy_score(test_y,y_pred)"
   ]
  },
  {
   "cell_type": "markdown",
   "id": "3e047a60",
   "metadata": {
    "papermill": {
     "duration": 0.050984,
     "end_time": "2023-06-15T09:20:25.297167",
     "exception": false,
     "start_time": "2023-06-15T09:20:25.246183",
     "status": "completed"
    },
    "tags": []
   },
   "source": [
    "## KERAS IMPORT AND FRAMEWORKS"
   ]
  },
  {
   "cell_type": "markdown",
   "id": "79572950",
   "metadata": {
    "papermill": {
     "duration": 0.050815,
     "end_time": "2023-06-15T09:20:25.398799",
     "exception": false,
     "start_time": "2023-06-15T09:20:25.347984",
     "status": "completed"
    },
    "tags": []
   },
   "source": [
    "from keras.models import Sequential\n",
    "\n",
    "from keras.layers import Dense\n",
    "\n",
    "from keras.activations import tanh,sigmoid\n",
    "\n",
    "from keras.optimizers import Adam\n",
    "\n",
    "from keras.preprocessing import image\n",
    "\n",
    "from keras.applications import vgg16\n",
    "\n",
    "seq = Sequential()\n",
    "\n",
    "seq.add(Dense(units=1,activation=sigmoid))\n",
    "\n",
    "model.compile(optimizer=Adam)\n",
    "\n",
    "image.load_img('image/path/img.jpg')\n",
    "\n",
    "seq =  vgg16.VGG16(weights='imagenet')"
   ]
  },
  {
   "cell_type": "code",
   "execution_count": null,
   "id": "86be2758",
   "metadata": {
    "papermill": {
     "duration": 0.050502,
     "end_time": "2023-06-15T09:20:25.500701",
     "exception": false,
     "start_time": "2023-06-15T09:20:25.450199",
     "status": "completed"
    },
    "tags": []
   },
   "outputs": [],
   "source": []
  }
 ],
 "metadata": {
  "kernelspec": {
   "display_name": "Python 3",
   "language": "python",
   "name": "python3"
  },
  "language_info": {
   "codemirror_mode": {
    "name": "ipython",
    "version": 3
   },
   "file_extension": ".py",
   "mimetype": "text/x-python",
   "name": "python",
   "nbconvert_exporter": "python",
   "pygments_lexer": "ipython3",
   "version": "3.10.10"
  },
  "papermill": {
   "default_parameters": {},
   "duration": 57.458034,
   "end_time": "2023-06-15T09:20:28.965149",
   "environment_variables": {},
   "exception": null,
   "input_path": "__notebook__.ipynb",
   "output_path": "__notebook__.ipynb",
   "parameters": {},
   "start_time": "2023-06-15T09:19:31.507115",
   "version": "2.4.0"
  }
 },
 "nbformat": 4,
 "nbformat_minor": 5
}
