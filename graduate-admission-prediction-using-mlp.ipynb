{
 "cells": [
  {
   "cell_type": "markdown",
   "id": "09e1ff72",
   "metadata": {
    "papermill": {
     "duration": 0.012447,
     "end_time": "2023-06-20T09:56:36.967392",
     "exception": false,
     "start_time": "2023-06-20T09:56:36.954945",
     "status": "completed"
    },
    "tags": []
   },
   "source": [
    "# **Graduate Admission Prediction using MLP**"
   ]
  },
  {
   "cell_type": "markdown",
   "id": "43d35b43",
   "metadata": {
    "papermill": {
     "duration": 0.009331,
     "end_time": "2023-06-20T09:56:36.986710",
     "exception": false,
     "start_time": "2023-06-20T09:56:36.977379",
     "status": "completed"
    },
    "tags": []
   },
   "source": [
    "### Import Packages"
   ]
  },
  {
   "cell_type": "code",
   "execution_count": 1,
   "id": "c831437a",
   "metadata": {
    "execution": {
     "iopub.execute_input": "2023-06-20T09:56:37.010114Z",
     "iopub.status.busy": "2023-06-20T09:56:37.009175Z",
     "iopub.status.idle": "2023-06-20T09:56:37.024028Z",
     "shell.execute_reply": "2023-06-20T09:56:37.022810Z"
    },
    "papermill": {
     "duration": 0.029829,
     "end_time": "2023-06-20T09:56:37.027180",
     "exception": false,
     "start_time": "2023-06-20T09:56:36.997351",
     "status": "completed"
    },
    "tags": []
   },
   "outputs": [],
   "source": [
    "import numpy as np\n",
    "import pandas as pd\n",
    "import matplotlib.pyplot as plt"
   ]
  },
  {
   "cell_type": "markdown",
   "id": "6ce489dc",
   "metadata": {
    "papermill": {
     "duration": 0.009418,
     "end_time": "2023-06-20T09:56:37.046635",
     "exception": false,
     "start_time": "2023-06-20T09:56:37.037217",
     "status": "completed"
    },
    "tags": []
   },
   "source": [
    "### Import Dataset"
   ]
  },
  {
   "cell_type": "code",
   "execution_count": 2,
   "id": "a046671a",
   "metadata": {
    "execution": {
     "iopub.execute_input": "2023-06-20T09:56:37.068365Z",
     "iopub.status.busy": "2023-06-20T09:56:37.067948Z",
     "iopub.status.idle": "2023-06-20T09:56:37.131972Z",
     "shell.execute_reply": "2023-06-20T09:56:37.130771Z"
    },
    "papermill": {
     "duration": 0.078913,
     "end_time": "2023-06-20T09:56:37.135456",
     "exception": false,
     "start_time": "2023-06-20T09:56:37.056543",
     "status": "completed"
    },
    "tags": []
   },
   "outputs": [
    {
     "data": {
      "text/html": [
       "<div>\n",
       "<style scoped>\n",
       "    .dataframe tbody tr th:only-of-type {\n",
       "        vertical-align: middle;\n",
       "    }\n",
       "\n",
       "    .dataframe tbody tr th {\n",
       "        vertical-align: top;\n",
       "    }\n",
       "\n",
       "    .dataframe thead th {\n",
       "        text-align: right;\n",
       "    }\n",
       "</style>\n",
       "<table border=\"1\" class=\"dataframe\">\n",
       "  <thead>\n",
       "    <tr style=\"text-align: right;\">\n",
       "      <th></th>\n",
       "      <th>GRE Score</th>\n",
       "      <th>TOEFL Score</th>\n",
       "      <th>University Rating</th>\n",
       "      <th>SOP</th>\n",
       "      <th>LOR</th>\n",
       "      <th>CGPA</th>\n",
       "      <th>Research</th>\n",
       "      <th>Chance of Admit</th>\n",
       "    </tr>\n",
       "  </thead>\n",
       "  <tbody>\n",
       "    <tr>\n",
       "      <th>0</th>\n",
       "      <td>337</td>\n",
       "      <td>118</td>\n",
       "      <td>4</td>\n",
       "      <td>4.5</td>\n",
       "      <td>4.5</td>\n",
       "      <td>9.65</td>\n",
       "      <td>1</td>\n",
       "      <td>0.92</td>\n",
       "    </tr>\n",
       "    <tr>\n",
       "      <th>1</th>\n",
       "      <td>324</td>\n",
       "      <td>107</td>\n",
       "      <td>4</td>\n",
       "      <td>4.0</td>\n",
       "      <td>4.5</td>\n",
       "      <td>8.87</td>\n",
       "      <td>1</td>\n",
       "      <td>0.76</td>\n",
       "    </tr>\n",
       "    <tr>\n",
       "      <th>2</th>\n",
       "      <td>316</td>\n",
       "      <td>104</td>\n",
       "      <td>3</td>\n",
       "      <td>3.0</td>\n",
       "      <td>3.5</td>\n",
       "      <td>8.00</td>\n",
       "      <td>1</td>\n",
       "      <td>0.72</td>\n",
       "    </tr>\n",
       "    <tr>\n",
       "      <th>3</th>\n",
       "      <td>322</td>\n",
       "      <td>110</td>\n",
       "      <td>3</td>\n",
       "      <td>3.5</td>\n",
       "      <td>2.5</td>\n",
       "      <td>8.67</td>\n",
       "      <td>1</td>\n",
       "      <td>0.80</td>\n",
       "    </tr>\n",
       "    <tr>\n",
       "      <th>4</th>\n",
       "      <td>314</td>\n",
       "      <td>103</td>\n",
       "      <td>2</td>\n",
       "      <td>2.0</td>\n",
       "      <td>3.0</td>\n",
       "      <td>8.21</td>\n",
       "      <td>0</td>\n",
       "      <td>0.65</td>\n",
       "    </tr>\n",
       "  </tbody>\n",
       "</table>\n",
       "</div>"
      ],
      "text/plain": [
       "   GRE Score  TOEFL Score  University Rating  SOP  LOR   CGPA  Research  \\\n",
       "0        337          118                  4  4.5   4.5  9.65         1   \n",
       "1        324          107                  4  4.0   4.5  8.87         1   \n",
       "2        316          104                  3  3.0   3.5  8.00         1   \n",
       "3        322          110                  3  3.5   2.5  8.67         1   \n",
       "4        314          103                  2  2.0   3.0  8.21         0   \n",
       "\n",
       "   Chance of Admit   \n",
       "0              0.92  \n",
       "1              0.76  \n",
       "2              0.72  \n",
       "3              0.80  \n",
       "4              0.65  "
      ]
     },
     "execution_count": 2,
     "metadata": {},
     "output_type": "execute_result"
    }
   ],
   "source": [
    "data = pd.read_csv('/kaggle/input/graduates-admission-prediction/admission_data.csv')\n",
    "data.head()"
   ]
  },
  {
   "cell_type": "code",
   "execution_count": 3,
   "id": "91ba9149",
   "metadata": {
    "execution": {
     "iopub.execute_input": "2023-06-20T09:56:37.157912Z",
     "iopub.status.busy": "2023-06-20T09:56:37.157444Z",
     "iopub.status.idle": "2023-06-20T09:56:37.169348Z",
     "shell.execute_reply": "2023-06-20T09:56:37.168119Z"
    },
    "papermill": {
     "duration": 0.026306,
     "end_time": "2023-06-20T09:56:37.172086",
     "exception": false,
     "start_time": "2023-06-20T09:56:37.145780",
     "status": "completed"
    },
    "tags": []
   },
   "outputs": [
    {
     "data": {
      "text/plain": [
       "GRE Score            0\n",
       "TOEFL Score          0\n",
       "University Rating    0\n",
       "SOP                  0\n",
       "LOR                  0\n",
       "CGPA                 0\n",
       "Research             0\n",
       "Chance of Admit      0\n",
       "dtype: int64"
      ]
     },
     "execution_count": 3,
     "metadata": {},
     "output_type": "execute_result"
    }
   ],
   "source": [
    "data.isnull().sum()"
   ]
  },
  {
   "cell_type": "code",
   "execution_count": 4,
   "id": "4e3932fa",
   "metadata": {
    "execution": {
     "iopub.execute_input": "2023-06-20T09:56:37.194880Z",
     "iopub.status.busy": "2023-06-20T09:56:37.194427Z",
     "iopub.status.idle": "2023-06-20T09:56:37.221952Z",
     "shell.execute_reply": "2023-06-20T09:56:37.220600Z"
    },
    "papermill": {
     "duration": 0.042509,
     "end_time": "2023-06-20T09:56:37.225054",
     "exception": false,
     "start_time": "2023-06-20T09:56:37.182545",
     "status": "completed"
    },
    "tags": []
   },
   "outputs": [
    {
     "name": "stdout",
     "output_type": "stream",
     "text": [
      "<class 'pandas.core.frame.DataFrame'>\n",
      "RangeIndex: 500 entries, 0 to 499\n",
      "Data columns (total 8 columns):\n",
      " #   Column             Non-Null Count  Dtype  \n",
      "---  ------             --------------  -----  \n",
      " 0   GRE Score          500 non-null    int64  \n",
      " 1   TOEFL Score        500 non-null    int64  \n",
      " 2   University Rating  500 non-null    int64  \n",
      " 3   SOP                500 non-null    float64\n",
      " 4   LOR                500 non-null    float64\n",
      " 5   CGPA               500 non-null    float64\n",
      " 6   Research           500 non-null    int64  \n",
      " 7   Chance of Admit    500 non-null    float64\n",
      "dtypes: float64(4), int64(4)\n",
      "memory usage: 31.4 KB\n"
     ]
    }
   ],
   "source": [
    "data.info()  # No non-numbers values"
   ]
  },
  {
   "cell_type": "code",
   "execution_count": 5,
   "id": "27b98eb3",
   "metadata": {
    "execution": {
     "iopub.execute_input": "2023-06-20T09:56:37.248021Z",
     "iopub.status.busy": "2023-06-20T09:56:37.247580Z",
     "iopub.status.idle": "2023-06-20T09:56:37.271524Z",
     "shell.execute_reply": "2023-06-20T09:56:37.270386Z"
    },
    "papermill": {
     "duration": 0.038463,
     "end_time": "2023-06-20T09:56:37.274018",
     "exception": false,
     "start_time": "2023-06-20T09:56:37.235555",
     "status": "completed"
    },
    "tags": []
   },
   "outputs": [
    {
     "data": {
      "text/html": [
       "<div>\n",
       "<style scoped>\n",
       "    .dataframe tbody tr th:only-of-type {\n",
       "        vertical-align: middle;\n",
       "    }\n",
       "\n",
       "    .dataframe tbody tr th {\n",
       "        vertical-align: top;\n",
       "    }\n",
       "\n",
       "    .dataframe thead th {\n",
       "        text-align: right;\n",
       "    }\n",
       "</style>\n",
       "<table border=\"1\" class=\"dataframe\">\n",
       "  <thead>\n",
       "    <tr style=\"text-align: right;\">\n",
       "      <th></th>\n",
       "      <th>GRE Score</th>\n",
       "      <th>TOEFL Score</th>\n",
       "      <th>University Rating</th>\n",
       "      <th>SOP</th>\n",
       "      <th>LOR</th>\n",
       "      <th>CGPA</th>\n",
       "      <th>Research</th>\n",
       "    </tr>\n",
       "  </thead>\n",
       "  <tbody>\n",
       "    <tr>\n",
       "      <th>0</th>\n",
       "      <td>337</td>\n",
       "      <td>118</td>\n",
       "      <td>4</td>\n",
       "      <td>4.5</td>\n",
       "      <td>4.5</td>\n",
       "      <td>9.65</td>\n",
       "      <td>1</td>\n",
       "    </tr>\n",
       "    <tr>\n",
       "      <th>1</th>\n",
       "      <td>324</td>\n",
       "      <td>107</td>\n",
       "      <td>4</td>\n",
       "      <td>4.0</td>\n",
       "      <td>4.5</td>\n",
       "      <td>8.87</td>\n",
       "      <td>1</td>\n",
       "    </tr>\n",
       "    <tr>\n",
       "      <th>2</th>\n",
       "      <td>316</td>\n",
       "      <td>104</td>\n",
       "      <td>3</td>\n",
       "      <td>3.0</td>\n",
       "      <td>3.5</td>\n",
       "      <td>8.00</td>\n",
       "      <td>1</td>\n",
       "    </tr>\n",
       "    <tr>\n",
       "      <th>3</th>\n",
       "      <td>322</td>\n",
       "      <td>110</td>\n",
       "      <td>3</td>\n",
       "      <td>3.5</td>\n",
       "      <td>2.5</td>\n",
       "      <td>8.67</td>\n",
       "      <td>1</td>\n",
       "    </tr>\n",
       "    <tr>\n",
       "      <th>4</th>\n",
       "      <td>314</td>\n",
       "      <td>103</td>\n",
       "      <td>2</td>\n",
       "      <td>2.0</td>\n",
       "      <td>3.0</td>\n",
       "      <td>8.21</td>\n",
       "      <td>0</td>\n",
       "    </tr>\n",
       "    <tr>\n",
       "      <th>...</th>\n",
       "      <td>...</td>\n",
       "      <td>...</td>\n",
       "      <td>...</td>\n",
       "      <td>...</td>\n",
       "      <td>...</td>\n",
       "      <td>...</td>\n",
       "      <td>...</td>\n",
       "    </tr>\n",
       "    <tr>\n",
       "      <th>495</th>\n",
       "      <td>332</td>\n",
       "      <td>108</td>\n",
       "      <td>5</td>\n",
       "      <td>4.5</td>\n",
       "      <td>4.0</td>\n",
       "      <td>9.02</td>\n",
       "      <td>1</td>\n",
       "    </tr>\n",
       "    <tr>\n",
       "      <th>496</th>\n",
       "      <td>337</td>\n",
       "      <td>117</td>\n",
       "      <td>5</td>\n",
       "      <td>5.0</td>\n",
       "      <td>5.0</td>\n",
       "      <td>9.87</td>\n",
       "      <td>1</td>\n",
       "    </tr>\n",
       "    <tr>\n",
       "      <th>497</th>\n",
       "      <td>330</td>\n",
       "      <td>120</td>\n",
       "      <td>5</td>\n",
       "      <td>4.5</td>\n",
       "      <td>5.0</td>\n",
       "      <td>9.56</td>\n",
       "      <td>1</td>\n",
       "    </tr>\n",
       "    <tr>\n",
       "      <th>498</th>\n",
       "      <td>312</td>\n",
       "      <td>103</td>\n",
       "      <td>4</td>\n",
       "      <td>4.0</td>\n",
       "      <td>5.0</td>\n",
       "      <td>8.43</td>\n",
       "      <td>0</td>\n",
       "    </tr>\n",
       "    <tr>\n",
       "      <th>499</th>\n",
       "      <td>327</td>\n",
       "      <td>113</td>\n",
       "      <td>4</td>\n",
       "      <td>4.5</td>\n",
       "      <td>4.5</td>\n",
       "      <td>9.04</td>\n",
       "      <td>0</td>\n",
       "    </tr>\n",
       "  </tbody>\n",
       "</table>\n",
       "<p>500 rows × 7 columns</p>\n",
       "</div>"
      ],
      "text/plain": [
       "     GRE Score  TOEFL Score  University Rating  SOP  LOR   CGPA  Research\n",
       "0          337          118                  4  4.5   4.5  9.65         1\n",
       "1          324          107                  4  4.0   4.5  8.87         1\n",
       "2          316          104                  3  3.0   3.5  8.00         1\n",
       "3          322          110                  3  3.5   2.5  8.67         1\n",
       "4          314          103                  2  2.0   3.0  8.21         0\n",
       "..         ...          ...                ...  ...   ...   ...       ...\n",
       "495        332          108                  5  4.5   4.0  9.02         1\n",
       "496        337          117                  5  5.0   5.0  9.87         1\n",
       "497        330          120                  5  4.5   5.0  9.56         1\n",
       "498        312          103                  4  4.0   5.0  8.43         0\n",
       "499        327          113                  4  4.5   4.5  9.04         0\n",
       "\n",
       "[500 rows x 7 columns]"
      ]
     },
     "execution_count": 5,
     "metadata": {},
     "output_type": "execute_result"
    }
   ],
   "source": [
    "data.iloc[:,0:-1]"
   ]
  },
  {
   "cell_type": "code",
   "execution_count": 6,
   "id": "aec0f0c1",
   "metadata": {
    "execution": {
     "iopub.execute_input": "2023-06-20T09:56:37.297661Z",
     "iopub.status.busy": "2023-06-20T09:56:37.297209Z",
     "iopub.status.idle": "2023-06-20T09:56:37.308038Z",
     "shell.execute_reply": "2023-06-20T09:56:37.306782Z"
    },
    "papermill": {
     "duration": 0.025579,
     "end_time": "2023-06-20T09:56:37.310514",
     "exception": false,
     "start_time": "2023-06-20T09:56:37.284935",
     "status": "completed"
    },
    "tags": []
   },
   "outputs": [
    {
     "data": {
      "text/plain": [
       "0      0.92\n",
       "1      0.76\n",
       "2      0.72\n",
       "3      0.80\n",
       "4      0.65\n",
       "       ... \n",
       "495    0.87\n",
       "496    0.96\n",
       "497    0.93\n",
       "498    0.73\n",
       "499    0.84\n",
       "Name: Chance of Admit , Length: 500, dtype: float64"
      ]
     },
     "execution_count": 6,
     "metadata": {},
     "output_type": "execute_result"
    }
   ],
   "source": [
    "data.iloc[:,-1]"
   ]
  },
  {
   "cell_type": "markdown",
   "id": "93c4b1d4",
   "metadata": {
    "papermill": {
     "duration": 0.010694,
     "end_time": "2023-06-20T09:56:37.332276",
     "exception": false,
     "start_time": "2023-06-20T09:56:37.321582",
     "status": "completed"
    },
    "tags": []
   },
   "source": [
    "### Split into Variable and Targets"
   ]
  },
  {
   "cell_type": "code",
   "execution_count": 7,
   "id": "e2a3e895",
   "metadata": {
    "execution": {
     "iopub.execute_input": "2023-06-20T09:56:37.356977Z",
     "iopub.status.busy": "2023-06-20T09:56:37.356553Z",
     "iopub.status.idle": "2023-06-20T09:56:37.362832Z",
     "shell.execute_reply": "2023-06-20T09:56:37.361532Z"
    },
    "papermill": {
     "duration": 0.021647,
     "end_time": "2023-06-20T09:56:37.365461",
     "exception": false,
     "start_time": "2023-06-20T09:56:37.343814",
     "status": "completed"
    },
    "tags": []
   },
   "outputs": [],
   "source": [
    "# Different wayss of slicing\n",
    "x = data.iloc[:,0:-1]\n",
    "y = data.iloc[:,-1]"
   ]
  },
  {
   "cell_type": "markdown",
   "id": "317d59a1",
   "metadata": {
    "papermill": {
     "duration": 0.011138,
     "end_time": "2023-06-20T09:56:37.388236",
     "exception": false,
     "start_time": "2023-06-20T09:56:37.377098",
     "status": "completed"
    },
    "tags": []
   },
   "source": [
    "### Train-Test Split"
   ]
  },
  {
   "cell_type": "code",
   "execution_count": 8,
   "id": "cc780eee",
   "metadata": {
    "execution": {
     "iopub.execute_input": "2023-06-20T09:56:37.412453Z",
     "iopub.status.busy": "2023-06-20T09:56:37.411983Z",
     "iopub.status.idle": "2023-06-20T09:56:38.915258Z",
     "shell.execute_reply": "2023-06-20T09:56:38.913965Z"
    },
    "papermill": {
     "duration": 1.519086,
     "end_time": "2023-06-20T09:56:38.918425",
     "exception": false,
     "start_time": "2023-06-20T09:56:37.399339",
     "status": "completed"
    },
    "tags": []
   },
   "outputs": [
    {
     "data": {
      "text/plain": [
       "((350, 7), (150, 7), (350,), (150,))"
      ]
     },
     "execution_count": 8,
     "metadata": {},
     "output_type": "execute_result"
    }
   ],
   "source": [
    "from sklearn.model_selection import train_test_split\n",
    "\n",
    "train_x, test_x, train_y, test_y = train_test_split(x,y,test_size=0.3,random_state=108)\n",
    "\n",
    "train_x.shape, test_x.shape, train_y.shape, test_y.shape"
   ]
  },
  {
   "cell_type": "markdown",
   "id": "b4b2d176",
   "metadata": {
    "papermill": {
     "duration": 0.010609,
     "end_time": "2023-06-20T09:56:38.940305",
     "exception": false,
     "start_time": "2023-06-20T09:56:38.929696",
     "status": "completed"
    },
    "tags": []
   },
   "source": [
    "### Scaling the Data"
   ]
  },
  {
   "cell_type": "code",
   "execution_count": 9,
   "id": "25affbcc",
   "metadata": {
    "execution": {
     "iopub.execute_input": "2023-06-20T09:56:38.965578Z",
     "iopub.status.busy": "2023-06-20T09:56:38.964486Z",
     "iopub.status.idle": "2023-06-20T09:56:38.977812Z",
     "shell.execute_reply": "2023-06-20T09:56:38.976919Z"
    },
    "papermill": {
     "duration": 0.029247,
     "end_time": "2023-06-20T09:56:38.980754",
     "exception": false,
     "start_time": "2023-06-20T09:56:38.951507",
     "status": "completed"
    },
    "tags": []
   },
   "outputs": [],
   "source": [
    "from sklearn.preprocessing import MinMaxScaler\n",
    "\n",
    "scale = MinMaxScaler()\n",
    "\n",
    "train_x_scale = scale.fit_transform(train_x)\n",
    "test_x_scale = scale.fit_transform(test_x)"
   ]
  },
  {
   "cell_type": "markdown",
   "id": "be631b91",
   "metadata": {
    "papermill": {
     "duration": 0.010811,
     "end_time": "2023-06-20T09:56:39.003044",
     "exception": false,
     "start_time": "2023-06-20T09:56:38.992233",
     "status": "completed"
    },
    "tags": []
   },
   "source": [
    "### Model Building"
   ]
  },
  {
   "cell_type": "code",
   "execution_count": 10,
   "id": "50c80716",
   "metadata": {
    "execution": {
     "iopub.execute_input": "2023-06-20T09:56:39.027661Z",
     "iopub.status.busy": "2023-06-20T09:56:39.026849Z",
     "iopub.status.idle": "2023-06-20T09:56:47.833773Z",
     "shell.execute_reply": "2023-06-20T09:56:47.832595Z"
    },
    "papermill": {
     "duration": 8.823489,
     "end_time": "2023-06-20T09:56:47.837710",
     "exception": false,
     "start_time": "2023-06-20T09:56:39.014221",
     "status": "completed"
    },
    "tags": []
   },
   "outputs": [
    {
     "name": "stderr",
     "output_type": "stream",
     "text": [
      "/opt/conda/lib/python3.10/site-packages/tensorflow_io/python/ops/__init__.py:98: UserWarning: unable to load libtensorflow_io_plugins.so: unable to open file: libtensorflow_io_plugins.so, from paths: ['/opt/conda/lib/python3.10/site-packages/tensorflow_io/python/ops/libtensorflow_io_plugins.so']\n",
      "caused by: ['/opt/conda/lib/python3.10/site-packages/tensorflow_io/python/ops/libtensorflow_io_plugins.so: undefined symbol: _ZN3tsl6StatusC1EN10tensorflow5error4CodeESt17basic_string_viewIcSt11char_traitsIcEENS_14SourceLocationE']\n",
      "  warnings.warn(f\"unable to load libtensorflow_io_plugins.so: {e}\")\n",
      "/opt/conda/lib/python3.10/site-packages/tensorflow_io/python/ops/__init__.py:104: UserWarning: file system plugins are not loaded: unable to open file: libtensorflow_io.so, from paths: ['/opt/conda/lib/python3.10/site-packages/tensorflow_io/python/ops/libtensorflow_io.so']\n",
      "caused by: ['/opt/conda/lib/python3.10/site-packages/tensorflow_io/python/ops/libtensorflow_io.so: undefined symbol: _ZTVN10tensorflow13GcsFileSystemE']\n",
      "  warnings.warn(f\"file system plugins are not loaded: {e}\")\n"
     ]
    }
   ],
   "source": [
    "from keras.models import Sequential\n",
    "from keras.layers import Dense\n",
    "from keras.activations import relu,linear\n",
    "model = Sequential()\n",
    "\n",
    "model.add(Dense(7,activation='relu',input_dim=7))\n",
    "model.add(Dense(1,activation='linear'))"
   ]
  },
  {
   "cell_type": "code",
   "execution_count": 11,
   "id": "318b9c51",
   "metadata": {
    "execution": {
     "iopub.execute_input": "2023-06-20T09:56:47.864306Z",
     "iopub.status.busy": "2023-06-20T09:56:47.861803Z",
     "iopub.status.idle": "2023-06-20T09:56:47.881872Z",
     "shell.execute_reply": "2023-06-20T09:56:47.880526Z"
    },
    "papermill": {
     "duration": 0.03965,
     "end_time": "2023-06-20T09:56:47.888878",
     "exception": false,
     "start_time": "2023-06-20T09:56:47.849228",
     "status": "completed"
    },
    "tags": []
   },
   "outputs": [
    {
     "name": "stdout",
     "output_type": "stream",
     "text": [
      "Model: \"sequential\"\n",
      "_________________________________________________________________\n",
      " Layer (type)                Output Shape              Param #   \n",
      "=================================================================\n",
      " dense (Dense)               (None, 7)                 56        \n",
      "                                                                 \n",
      " dense_1 (Dense)             (None, 1)                 8         \n",
      "                                                                 \n",
      "=================================================================\n",
      "Total params: 64\n",
      "Trainable params: 64\n",
      "Non-trainable params: 0\n",
      "_________________________________________________________________\n"
     ]
    }
   ],
   "source": [
    "model.summary()"
   ]
  },
  {
   "cell_type": "markdown",
   "id": "29657f53",
   "metadata": {
    "papermill": {
     "duration": 0.01187,
     "end_time": "2023-06-20T09:56:47.913048",
     "exception": false,
     "start_time": "2023-06-20T09:56:47.901178",
     "status": "completed"
    },
    "tags": []
   },
   "source": [
    "### Compiling the model"
   ]
  },
  {
   "cell_type": "code",
   "execution_count": 12,
   "id": "2ae68179",
   "metadata": {
    "execution": {
     "iopub.execute_input": "2023-06-20T09:56:47.940091Z",
     "iopub.status.busy": "2023-06-20T09:56:47.939621Z",
     "iopub.status.idle": "2023-06-20T09:56:49.854381Z",
     "shell.execute_reply": "2023-06-20T09:56:49.853312Z"
    },
    "papermill": {
     "duration": 1.931986,
     "end_time": "2023-06-20T09:56:49.857353",
     "exception": false,
     "start_time": "2023-06-20T09:56:47.925367",
     "status": "completed"
    },
    "tags": []
   },
   "outputs": [
    {
     "name": "stdout",
     "output_type": "stream",
     "text": [
      "Epoch 1/15\n",
      "9/9 [==============================] - 1s 30ms/step - loss: 0.5818 - val_loss: 0.5400\n",
      "Epoch 2/15\n",
      "9/9 [==============================] - 0s 6ms/step - loss: 0.5566 - val_loss: 0.5165\n",
      "Epoch 3/15\n",
      "9/9 [==============================] - 0s 6ms/step - loss: 0.5309 - val_loss: 0.4917\n",
      "Epoch 4/15\n",
      "9/9 [==============================] - 0s 6ms/step - loss: 0.5031 - val_loss: 0.4613\n",
      "Epoch 5/15\n",
      "9/9 [==============================] - 0s 5ms/step - loss: 0.4681 - val_loss: 0.4192\n",
      "Epoch 6/15\n",
      "9/9 [==============================] - 0s 6ms/step - loss: 0.4192 - val_loss: 0.3649\n",
      "Epoch 7/15\n",
      "9/9 [==============================] - 0s 6ms/step - loss: 0.3632 - val_loss: 0.3074\n",
      "Epoch 8/15\n",
      "9/9 [==============================] - 0s 5ms/step - loss: 0.3044 - val_loss: 0.2524\n",
      "Epoch 9/15\n",
      "9/9 [==============================] - 0s 5ms/step - loss: 0.2485 - val_loss: 0.2022\n",
      "Epoch 10/15\n",
      "9/9 [==============================] - 0s 7ms/step - loss: 0.1975 - val_loss: 0.1590\n",
      "Epoch 11/15\n",
      "9/9 [==============================] - 0s 6ms/step - loss: 0.1527 - val_loss: 0.1201\n",
      "Epoch 12/15\n",
      "9/9 [==============================] - 0s 5ms/step - loss: 0.1112 - val_loss: 0.0834\n",
      "Epoch 13/15\n",
      "9/9 [==============================] - 0s 6ms/step - loss: 0.0741 - val_loss: 0.0548\n",
      "Epoch 14/15\n",
      "9/9 [==============================] - 0s 6ms/step - loss: 0.0475 - val_loss: 0.0415\n",
      "Epoch 15/15\n",
      "9/9 [==============================] - 0s 5ms/step - loss: 0.0367 - val_loss: 0.0391\n"
     ]
    }
   ],
   "source": [
    "from keras.losses import mean_squared_error\n",
    "from keras.optimizers import Adam\n",
    "\n",
    "model.compile(loss='mean_squared_error',optimizer='Adam')\n",
    "\n",
    "hist = model.fit(train_x_scale,train_y,epochs=15,validation_split=0.2)"
   ]
  },
  {
   "cell_type": "markdown",
   "id": "6480d3f1",
   "metadata": {
    "papermill": {
     "duration": 0.015774,
     "end_time": "2023-06-20T09:56:49.890089",
     "exception": false,
     "start_time": "2023-06-20T09:56:49.874315",
     "status": "completed"
    },
    "tags": []
   },
   "source": [
    "### Predicting the model"
   ]
  },
  {
   "cell_type": "code",
   "execution_count": 13,
   "id": "721f6698",
   "metadata": {
    "execution": {
     "iopub.execute_input": "2023-06-20T09:56:49.925548Z",
     "iopub.status.busy": "2023-06-20T09:56:49.924666Z",
     "iopub.status.idle": "2023-06-20T09:56:50.116416Z",
     "shell.execute_reply": "2023-06-20T09:56:50.115220Z"
    },
    "papermill": {
     "duration": 0.213298,
     "end_time": "2023-06-20T09:56:50.120014",
     "exception": false,
     "start_time": "2023-06-20T09:56:49.906716",
     "status": "completed"
    },
    "tags": []
   },
   "outputs": [
    {
     "name": "stdout",
     "output_type": "stream",
     "text": [
      "5/5 [==============================] - 0s 2ms/step\n"
     ]
    }
   ],
   "source": [
    "y_pred = model.predict(test_x_scale)\n",
    "#y_pred"
   ]
  },
  {
   "cell_type": "markdown",
   "id": "7627733e",
   "metadata": {
    "papermill": {
     "duration": 0.016284,
     "end_time": "2023-06-20T09:56:50.153541",
     "exception": false,
     "start_time": "2023-06-20T09:56:50.137257",
     "status": "completed"
    },
    "tags": []
   },
   "source": [
    "### Evaluation Metrics"
   ]
  },
  {
   "cell_type": "code",
   "execution_count": 14,
   "id": "f40b146c",
   "metadata": {
    "execution": {
     "iopub.execute_input": "2023-06-20T09:56:50.188351Z",
     "iopub.status.busy": "2023-06-20T09:56:50.187913Z",
     "iopub.status.idle": "2023-06-20T09:56:50.195531Z",
     "shell.execute_reply": "2023-06-20T09:56:50.194171Z"
    },
    "papermill": {
     "duration": 0.029085,
     "end_time": "2023-06-20T09:56:50.199097",
     "exception": false,
     "start_time": "2023-06-20T09:56:50.170012",
     "status": "completed"
    },
    "tags": []
   },
   "outputs": [
    {
     "name": "stdout",
     "output_type": "stream",
     "text": [
      "-1.289034164503362\n"
     ]
    }
   ],
   "source": [
    "from sklearn.metrics import r2_score\n",
    "\n",
    "print(r2_score(test_y,y_pred))"
   ]
  },
  {
   "cell_type": "markdown",
   "id": "1fb61c50",
   "metadata": {
    "papermill": {
     "duration": 0.016286,
     "end_time": "2023-06-20T09:56:50.231921",
     "exception": false,
     "start_time": "2023-06-20T09:56:50.215635",
     "status": "completed"
    },
    "tags": []
   },
   "source": [
    "#### Plotting the Loss"
   ]
  },
  {
   "cell_type": "code",
   "execution_count": 15,
   "id": "73f837dd",
   "metadata": {
    "execution": {
     "iopub.execute_input": "2023-06-20T09:56:50.267532Z",
     "iopub.status.busy": "2023-06-20T09:56:50.266817Z",
     "iopub.status.idle": "2023-06-20T09:56:50.599406Z",
     "shell.execute_reply": "2023-06-20T09:56:50.597922Z"
    },
    "papermill": {
     "duration": 0.353332,
     "end_time": "2023-06-20T09:56:50.602232",
     "exception": false,
     "start_time": "2023-06-20T09:56:50.248900",
     "status": "completed"
    },
    "tags": []
   },
   "outputs": [
    {
     "data": {
      "text/plain": [
       "[<matplotlib.lines.Line2D at 0x785724360550>]"
      ]
     },
     "execution_count": 15,
     "metadata": {},
     "output_type": "execute_result"
    },
    {
     "data": {
      "image/png": "[encoded data removed]",
      "text/plain": [
       "<Figure size 640x480 with 1 Axes>"
      ]
     },
     "metadata": {},
     "output_type": "display_data"
    }
   ],
   "source": [
    "plt.plot(hist.history['loss'])\n",
    "plt.plot(hist.history['val_loss'])"
   ]
  },
  {
   "cell_type": "markdown",
   "id": "6e1f5da1",
   "metadata": {
    "papermill": {
     "duration": 0.017093,
     "end_time": "2023-06-20T09:56:50.636606",
     "exception": false,
     "start_time": "2023-06-20T09:56:50.619513",
     "status": "completed"
    },
    "tags": []
   },
   "source": [
    "### Upgrade the Model"
   ]
  },
  {
   "cell_type": "code",
   "execution_count": 16,
   "id": "0b2a94f3",
   "metadata": {
    "execution": {
     "iopub.execute_input": "2023-06-20T09:56:50.672608Z",
     "iopub.status.busy": "2023-06-20T09:56:50.672152Z",
     "iopub.status.idle": "2023-06-20T09:56:50.729152Z",
     "shell.execute_reply": "2023-06-20T09:56:50.728261Z"
    },
    "papermill": {
     "duration": 0.078433,
     "end_time": "2023-06-20T09:56:50.732065",
     "exception": false,
     "start_time": "2023-06-20T09:56:50.653632",
     "status": "completed"
    },
    "tags": []
   },
   "outputs": [],
   "source": [
    "model_2 = Sequential()\n",
    "model_2.add(Dense(15,activation='relu',input_dim=7))\n",
    "model_2.add(Dense(15,activation='relu'))\n",
    "model_2.add(Dense(1,activation='linear'))"
   ]
  },
  {
   "cell_type": "code",
   "execution_count": 17,
   "id": "8c211b69",
   "metadata": {
    "execution": {
     "iopub.execute_input": "2023-06-20T09:56:50.768849Z",
     "iopub.status.busy": "2023-06-20T09:56:50.767953Z",
     "iopub.status.idle": "2023-06-20T09:56:50.789487Z",
     "shell.execute_reply": "2023-06-20T09:56:50.788415Z"
    },
    "papermill": {
     "duration": 0.04729,
     "end_time": "2023-06-20T09:56:50.796531",
     "exception": false,
     "start_time": "2023-06-20T09:56:50.749241",
     "status": "completed"
    },
    "tags": []
   },
   "outputs": [
    {
     "name": "stdout",
     "output_type": "stream",
     "text": [
      "Model: \"sequential_1\"\n",
      "_________________________________________________________________\n",
      " Layer (type)                Output Shape              Param #   \n",
      "=================================================================\n",
      " dense_2 (Dense)             (None, 15)                120       \n",
      "                                                                 \n",
      " dense_3 (Dense)             (None, 15)                240       \n",
      "                                                                 \n",
      " dense_4 (Dense)             (None, 1)                 16        \n",
      "                                                                 \n",
      "=================================================================\n",
      "Total params: 376\n",
      "Trainable params: 376\n",
      "Non-trainable params: 0\n",
      "_________________________________________________________________\n"
     ]
    }
   ],
   "source": [
    "model_2.summary()"
   ]
  },
  {
   "cell_type": "code",
   "execution_count": 18,
   "id": "265778b4",
   "metadata": {
    "execution": {
     "iopub.execute_input": "2023-06-20T09:56:50.836539Z",
     "iopub.status.busy": "2023-06-20T09:56:50.836123Z",
     "iopub.status.idle": "2023-06-20T09:56:53.283786Z",
     "shell.execute_reply": "2023-06-20T09:56:53.282662Z"
    },
    "papermill": {
     "duration": 2.471588,
     "end_time": "2023-06-20T09:56:53.286925",
     "exception": false,
     "start_time": "2023-06-20T09:56:50.815337",
     "status": "completed"
    },
    "tags": []
   },
   "outputs": [
    {
     "name": "stdout",
     "output_type": "stream",
     "text": [
      "Epoch 1/30\n",
      "9/9 [==============================] - 1s 20ms/step - loss: 0.0342 - val_loss: 0.0352\n",
      "Epoch 2/30\n",
      "9/9 [==============================] - 0s 5ms/step - loss: 0.0308 - val_loss: 0.0320\n",
      "Epoch 3/30\n",
      "9/9 [==============================] - 0s 5ms/step - loss: 0.0282 - val_loss: 0.0291\n",
      "Epoch 4/30\n",
      "9/9 [==============================] - 0s 5ms/step - loss: 0.0256 - val_loss: 0.0264\n",
      "Epoch 5/30\n",
      "9/9 [==============================] - 0s 7ms/step - loss: 0.0234 - val_loss: 0.0240\n",
      "Epoch 6/30\n",
      "9/9 [==============================] - 0s 6ms/step - loss: 0.0213 - val_loss: 0.0216\n",
      "Epoch 7/30\n",
      "9/9 [==============================] - 0s 6ms/step - loss: 0.0195 - val_loss: 0.0194\n",
      "Epoch 8/30\n",
      "9/9 [==============================] - 0s 6ms/step - loss: 0.0179 - val_loss: 0.0178\n",
      "Epoch 9/30\n",
      "9/9 [==============================] - 0s 8ms/step - loss: 0.0165 - val_loss: 0.0160\n",
      "Epoch 10/30\n",
      "9/9 [==============================] - 0s 5ms/step - loss: 0.0154 - val_loss: 0.0144\n",
      "Epoch 11/30\n",
      "9/9 [==============================] - 0s 5ms/step - loss: 0.0142 - val_loss: 0.0133\n",
      "Epoch 12/30\n",
      "9/9 [==============================] - 0s 5ms/step - loss: 0.0132 - val_loss: 0.0123\n",
      "Epoch 13/30\n",
      "9/9 [==============================] - 0s 7ms/step - loss: 0.0122 - val_loss: 0.0115\n",
      "Epoch 14/30\n",
      "9/9 [==============================] - 0s 7ms/step - loss: 0.0115 - val_loss: 0.0107\n",
      "Epoch 15/30\n",
      "9/9 [==============================] - 0s 8ms/step - loss: 0.0107 - val_loss: 0.0100\n",
      "Epoch 16/30\n",
      "9/9 [==============================] - 0s 7ms/step - loss: 0.0101 - val_loss: 0.0092\n",
      "Epoch 17/30\n",
      "9/9 [==============================] - 0s 5ms/step - loss: 0.0091 - val_loss: 0.0081\n",
      "Epoch 18/30\n",
      "9/9 [==============================] - 0s 6ms/step - loss: 0.0082 - val_loss: 0.0072\n",
      "Epoch 19/30\n",
      "9/9 [==============================] - 0s 6ms/step - loss: 0.0076 - val_loss: 0.0067\n",
      "Epoch 20/30\n",
      "9/9 [==============================] - 0s 7ms/step - loss: 0.0072 - val_loss: 0.0063\n",
      "Epoch 21/30\n",
      "9/9 [==============================] - 0s 6ms/step - loss: 0.0070 - val_loss: 0.0060\n",
      "Epoch 22/30\n",
      "9/9 [==============================] - 0s 5ms/step - loss: 0.0068 - val_loss: 0.0057\n",
      "Epoch 23/30\n",
      "9/9 [==============================] - 0s 5ms/step - loss: 0.0066 - val_loss: 0.0055\n",
      "Epoch 24/30\n",
      "9/9 [==============================] - 0s 6ms/step - loss: 0.0065 - val_loss: 0.0053\n",
      "Epoch 25/30\n",
      "9/9 [==============================] - 0s 5ms/step - loss: 0.0064 - val_loss: 0.0051\n",
      "Epoch 26/30\n",
      "9/9 [==============================] - 0s 8ms/step - loss: 0.0062 - val_loss: 0.0049\n",
      "Epoch 27/30\n",
      "9/9 [==============================] - 0s 9ms/step - loss: 0.0061 - val_loss: 0.0048\n",
      "Epoch 28/30\n",
      "9/9 [==============================] - 0s 8ms/step - loss: 0.0060 - val_loss: 0.0046\n",
      "Epoch 29/30\n",
      "9/9 [==============================] - 0s 6ms/step - loss: 0.0059 - val_loss: 0.0044\n",
      "Epoch 30/30\n",
      "9/9 [==============================] - 0s 6ms/step - loss: 0.0058 - val_loss: 0.0043\n"
     ]
    }
   ],
   "source": [
    "model.compile(loss='mean_squared_error',optimizer='Adam')\n",
    "\n",
    "hist_2 = model.fit(train_x_scale,train_y,epochs=30,validation_split=0.2)"
   ]
  },
  {
   "cell_type": "markdown",
   "id": "44ef9dfa",
   "metadata": {
    "papermill": {
     "duration": 0.027073,
     "end_time": "2023-06-20T09:56:53.342021",
     "exception": false,
     "start_time": "2023-06-20T09:56:53.314948",
     "status": "completed"
    },
    "tags": []
   },
   "source": [
    "##### DL models always tend more to Overfitting"
   ]
  },
  {
   "cell_type": "code",
   "execution_count": 19,
   "id": "2ec1c029",
   "metadata": {
    "execution": {
     "iopub.execute_input": "2023-06-20T09:56:53.399248Z",
     "iopub.status.busy": "2023-06-20T09:56:53.398749Z",
     "iopub.status.idle": "2023-06-20T09:56:53.536637Z",
     "shell.execute_reply": "2023-06-20T09:56:53.535776Z"
    },
    "papermill": {
     "duration": 0.169913,
     "end_time": "2023-06-20T09:56:53.539433",
     "exception": false,
     "start_time": "2023-06-20T09:56:53.369520",
     "status": "completed"
    },
    "tags": []
   },
   "outputs": [
    {
     "name": "stdout",
     "output_type": "stream",
     "text": [
      "5/5 [==============================] - 0s 2ms/step\n"
     ]
    },
    {
     "data": {
      "text/plain": [
       "-16.650790782615033"
      ]
     },
     "execution_count": 19,
     "metadata": {},
     "output_type": "execute_result"
    }
   ],
   "source": [
    "y_pred = model_2.predict(test_x_scale)\n",
    "r2_score(test_y,y_pred)"
   ]
  },
  {
   "cell_type": "code",
   "execution_count": 20,
   "id": "0703bc52",
   "metadata": {
    "execution": {
     "iopub.execute_input": "2023-06-20T09:56:53.595327Z",
     "iopub.status.busy": "2023-06-20T09:56:53.594574Z",
     "iopub.status.idle": "2023-06-20T09:56:53.903187Z",
     "shell.execute_reply": "2023-06-20T09:56:53.901765Z"
    },
    "papermill": {
     "duration": 0.339939,
     "end_time": "2023-06-20T09:56:53.906270",
     "exception": false,
     "start_time": "2023-06-20T09:56:53.566331",
     "status": "completed"
    },
    "tags": []
   },
   "outputs": [
    {
     "data": {
      "text/plain": [
       "[<matplotlib.lines.Line2D at 0x785724178a90>]"
      ]
     },
     "execution_count": 20,
     "metadata": {},
     "output_type": "execute_result"
    },
    {
     "data": {
      "image/png": "[encoded data removed]",
      "text/plain": [
       "<Figure size 640x480 with 1 Axes>"
      ]
     },
     "metadata": {},
     "output_type": "display_data"
    }
   ],
   "source": [
    "import matplotlib.pyplot as plt\n",
    "plt.plot(hist_2.history['loss'])\n",
    "plt.plot(hist_2.history['val_loss'])"
   ]
  },
  {
   "cell_type": "code",
   "execution_count": null,
   "id": "96318611",
   "metadata": {
    "papermill": {
     "duration": 0.026959,
     "end_time": "2023-06-20T09:56:53.960410",
     "exception": false,
     "start_time": "2023-06-20T09:56:53.933451",
     "status": "completed"
    },
    "tags": []
   },
   "outputs": [],
   "source": []
  }
 ],
 "metadata": {
  "kernelspec": {
   "display_name": "Python 3",
   "language": "python",
   "name": "python3"
  },
  "language_info": {
   "codemirror_mode": {
    "name": "ipython",
    "version": 3
   },
   "file_extension": ".py",
   "mimetype": "text/x-python",
   "name": "python",
   "nbconvert_exporter": "python",
   "pygments_lexer": "ipython3",
   "version": "3.10.10"
  },
  "papermill": {
   "default_parameters": {},
   "duration": 33.902451,
   "end_time": "2023-06-20T09:56:57.366224",
   "environment_variables": {},
   "exception": null,
   "input_path": "__notebook__.ipynb",
   "output_path": "__notebook__.ipynb",
   "parameters": {},
   "start_time": "2023-06-20T09:56:23.463773",
   "version": "2.4.0"
  }
 },
 "nbformat": 4,
 "nbformat_minor": 5
}
